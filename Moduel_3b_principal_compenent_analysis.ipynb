{
 "cells": [
  {
   "cell_type": "markdown",
   "metadata": {},
   "source": [
    "# Principle Component Analysis (PCA)\n",
    "\n",
    "### Key Equation: $Ax = \\lambda b ~~ \\text{for} ~~ n \\times n $\n",
    "\n",
    "PCA is an orthogonal linear transformation that transforms the data to a new coordinate system such that the greatest variance by some projection of the data comes to lie on the first coordinate (called the first principal component), the second greatest variance on the second coordinate, and so on. This is an Unsupervised Learning Techniques - Which means we don't have a target variable.\n"
   ]
  },
  {
   "cell_type": "code",
   "execution_count": 1,
   "metadata": {
    "collapsed": true
   },
   "outputs": [],
   "source": [
    "import numpy as np\n",
    "import pandas as pd"
   ]
  },
  {
   "cell_type": "code",
   "execution_count": 2,
   "metadata": {
    "collapsed": true
   },
   "outputs": [],
   "source": [
    "import matplotlib.pyplot as plt\n",
    "import seaborn as sns\n",
    "%matplotlib inline\n",
    "plt.style.use('fivethirtyeight')\n",
    "plt.rcParams['figure.figsize'] = (10, 6)"
   ]
  },
  {
   "cell_type": "markdown",
   "metadata": {},
   "source": [
    "## 2 Variables\n",
    "\n",
    "Let us generate a two variable data set - $x,y$\n",
    "\n",
    "$$ y = 50 + 3x + \\epsilon$$ "
   ]
  },
  {
   "cell_type": "code",
   "execution_count": 3,
   "metadata": {
    "collapsed": true
   },
   "outputs": [],
   "source": [
    "np.random.seed(123)"
   ]
  },
  {
   "cell_type": "code",
   "execution_count": 4,
   "metadata": {
    "collapsed": true
   },
   "outputs": [],
   "source": [
    "x = np.arange(12, 56, 0.5)\n",
    "e = np.random.normal(0, 100, x.size)\n",
    "y = 500 + 20*x + e"
   ]
  },
  {
   "cell_type": "code",
   "execution_count": 5,
   "metadata": {
    "collapsed": false
   },
   "outputs": [],
   "source": [
    "input_2var = np.c_[x,y]"
   ]
  },
  {
   "cell_type": "code",
   "execution_count": 130,
   "metadata": {
    "collapsed": true
   },
   "outputs": [],
   "source": [
    "def plot2var (m, xlabel, ylabel):\n",
    "    x = m[:,0]\n",
    "    y = m[:,1]\n",
    "    fig, ax = plt.subplots(figsize=(6, 6))\n",
    "    plt.scatter(x, y, s = 40, alpha = 0.8)\n",
    "    sns.rugplot(x, color=\"m\", ax=ax)\n",
    "    sns.rugplot(y, color=\"m\", vertical=True, ax=ax)\n",
    "       \n",
    "    plt.xlabel(xlabel)\n",
    "    plt.ylabel(ylabel)"
   ]
  },
  {
   "cell_type": "code",
   "execution_count": 129,
   "metadata": {
    "collapsed": false
   },
   "outputs": [
    {
     "data": {
      "image/png": "[encoded data removed]",
      "text/plain": [
       "<matplotlib.figure.Figure at 0x10bdadb38>"
      ]
     },
     "metadata": {},
     "output_type": "display_data"
    }
   ],
   "source": [
    "plot2var(input_2var, 'x', 'y')"
   ]
  },
  {
   "cell_type": "markdown",
   "metadata": {},
   "source": [
    "**Centering the Variables** (Remove mean and divide by std dev)"
   ]
  },
  {
   "cell_type": "code",
   "execution_count": 8,
   "metadata": {
    "collapsed": false
   },
   "outputs": [],
   "source": [
    "input_2var_mean = np.mean(input_2var, axis=0)"
   ]
  },
  {
   "cell_type": "code",
   "execution_count": 9,
   "metadata": {
    "collapsed": true
   },
   "outputs": [],
   "source": [
    "input_2var_sd = np.std(input_2var, axis=0)"
   ]
  },
  {
   "cell_type": "code",
   "execution_count": 10,
   "metadata": {
    "collapsed": false
   },
   "outputs": [],
   "source": [
    "input_2var_center = np.subtract(input_2var, input_2var_mean) / input_2var_sd"
   ]
  },
  {
   "cell_type": "code",
   "execution_count": 11,
   "metadata": {
    "collapsed": false
   },
   "outputs": [
    {
     "data": {
      "text/plain": [
       "array([[-1.71247898, -1.67311165, -1.63374432, -1.59437698, -1.55500965,\n",
       "        -1.51564232, -1.47627499, -1.43690765, -1.39754032, -1.35817299,\n",
       "        -1.31880565, -1.27943832, -1.24007099, -1.20070366, -1.16133632,\n",
       "        -1.12196899, -1.08260166, -1.04323432, -1.00386699, -0.96449966,\n",
       "        -0.92513232, -0.88576499, -0.84639766, -0.80703033, -0.76766299,\n",
       "        -0.72829566, -0.68892833, -0.64956099, -0.61019366, -0.57082633,\n",
       "        -0.53145899, -0.49209166, -0.45272433, -0.413357  , -0.37398966,\n",
       "        -0.33462233, -0.295255  , -0.25588766, -0.21652033, -0.177153  ,\n",
       "        -0.13778567, -0.09841833, -0.059051  , -0.01968367,  0.01968367,\n",
       "         0.059051  ,  0.09841833,  0.13778567,  0.177153  ,  0.21652033,\n",
       "         0.25588766,  0.295255  ,  0.33462233,  0.37398966,  0.413357  ,\n",
       "         0.45272433,  0.49209166,  0.53145899,  0.57082633,  0.61019366,\n",
       "         0.64956099,  0.68892833,  0.72829566,  0.76766299,  0.80703033,\n",
       "         0.84639766,  0.88576499,  0.92513232,  0.96449966,  1.00386699,\n",
       "         1.04323432,  1.08260166,  1.12196899,  1.16133632,  1.20070366,\n",
       "         1.24007099,  1.27943832,  1.31880565,  1.35817299,  1.39754032,\n",
       "         1.43690765,  1.47627499,  1.51564232,  1.55500965,  1.59437698,\n",
       "         1.63374432,  1.67311165,  1.71247898],\n",
       "       [-1.96429874, -1.17702204, -1.39858965, -2.0078155 , -1.6371839 ,\n",
       "        -0.79687066, -2.23155331, -1.47500686, -0.82770581, -1.56077797,\n",
       "        -1.45696513, -1.21022089, -0.60213995, -1.33435196, -1.22799089,\n",
       "        -1.18845327, -0.20018789, -0.17102767, -0.56150828, -0.74827397,\n",
       "        -0.58555793, -0.27779772, -1.1168592 , -0.31923677, -1.15943204,\n",
       "        -0.90116453, -0.30795722, -1.11427946, -0.61348521, -0.83769245,\n",
       "        -0.58302908, -1.46407087, -1.05760516, -0.63505478, -0.0121005 ,\n",
       "        -0.37314029, -0.27342893,  0.00981232, -0.51952583, -0.06397373,\n",
       "        -0.42064819, -0.71720663, -0.1990446 ,  0.18493485,  0.13616975,\n",
       "         0.0458575 ,  0.94898009,  0.27116705,  0.51129226,  1.00155404,\n",
       "        -0.23625782, -0.10812213,  0.93143367,  0.05082276,  0.38540856,\n",
       "         0.79641   ,  0.76805994,  1.11578537,  1.05835572,  0.94069516,\n",
       "         0.31241716,  0.91381638,  0.77655873,  0.22097351,  1.24648731,\n",
       "         1.06253644,  0.82388171,  0.75947718,  0.44744492,  0.98762624,\n",
       "         1.12067315,  0.68804702,  1.4430039 ,  0.6642272 ,  0.33030811,\n",
       "         1.50702648,  1.02264832,  1.15873235,  0.93820333,  0.69713244,\n",
       "         1.7650708 ,  1.10000534,  1.98351817,  1.71172106,  1.34311921,\n",
       "         1.10107522,  1.26460568,  1.127539  ]])"
      ]
     },
     "execution_count": 11,
     "metadata": {},
     "output_type": "execute_result"
    }
   ],
   "source": [
    "input_2var_center.T"
   ]
  },
  {
   "cell_type": "code",
   "execution_count": 141,
   "metadata": {
    "collapsed": true
   },
   "outputs": [],
   "source": [
    "def plot2var_center (m, xlabel, ylabel):\n",
    "    x = m[:,0]\n",
    "    y = m[:,1]\n",
    "    fig, ax = plt.subplots(figsize=(6, 6))\n",
    "    plt.scatter(x, y, s = 40, alpha = 0.8)\n",
    "    sns.rugplot(x, color=\"m\", ax=ax)\n",
    "    sns.rugplot(y, color=\"m\", vertical=True, ax=ax)\n",
    "       \n",
    "    plt.xlabel(xlabel)\n",
    "    plt.ylabel(ylabel)\n",
    "    \n",
    "    plt.xlim(-3,3)\n",
    "    plt.ylim(-3,3)"
   ]
  },
  {
   "cell_type": "code",
   "execution_count": 142,
   "metadata": {
    "collapsed": false
   },
   "outputs": [
    {
     "data": {
      "image/png": "[encoded data removed]",
      "text/plain": [
       "<matplotlib.figure.Figure at 0x1139b1b00>"
      ]
     },
     "metadata": {},
     "output_type": "display_data"
    }
   ],
   "source": [
    "plot2var_center(input_2var_center, \"x\", \"y\")"
   ]
  },
  {
   "cell_type": "markdown",
   "metadata": {},
   "source": [
    "**Calculate the Covariance Matrix** (Remove mean and divide by std dev)"
   ]
  },
  {
   "cell_type": "code",
   "execution_count": 14,
   "metadata": {
    "collapsed": false
   },
   "outputs": [],
   "source": [
    "cov_mat_2var = np.cov(input_2var_center.T)"
   ]
  },
  {
   "cell_type": "code",
   "execution_count": 15,
   "metadata": {
    "collapsed": false
   },
   "outputs": [
    {
     "data": {
      "text/plain": [
       "array([[ 1.01149425,  0.92226013],\n",
       "       [ 0.92226013,  1.01149425]])"
      ]
     },
     "execution_count": 15,
     "metadata": {},
     "output_type": "execute_result"
    }
   ],
   "source": [
    "cov_mat_2var"
   ]
  },
  {
   "cell_type": "markdown",
   "metadata": {},
   "source": [
    "So now this is the symetric $A$ matrix we are trying to solve\n",
    "\n",
    "$$ Ax = \\lambda x $$\n",
    "\n",
    "where \n",
    "$$ A = \\begin{bmatrix} 1.01 & -0.92 \\\\ -0.92 & 1.01 \\end{bmatrix} $$\n",
    "\n"
   ]
  },
  {
   "cell_type": "markdown",
   "metadata": {},
   "source": [
    "**Lets get the eigen-vectors for this matrix**"
   ]
  },
  {
   "cell_type": "code",
   "execution_count": 36,
   "metadata": {
    "collapsed": true
   },
   "outputs": [],
   "source": [
    "eigen_val_2var, eigen_vec_2var = np.linalg.eig(cov_mat_2var)"
   ]
  },
  {
   "cell_type": "code",
   "execution_count": 37,
   "metadata": {
    "collapsed": false
   },
   "outputs": [
    {
     "data": {
      "text/plain": [
       "array([ 1.93375438,  0.08923413])"
      ]
     },
     "execution_count": 37,
     "metadata": {},
     "output_type": "execute_result"
    }
   ],
   "source": [
    "eigen_val_2var"
   ]
  },
  {
   "cell_type": "code",
   "execution_count": 38,
   "metadata": {
    "collapsed": false
   },
   "outputs": [
    {
     "data": {
      "text/plain": [
       "array([[ 0.70710678, -0.70710678],\n",
       "       [ 0.70710678,  0.70710678]])"
      ]
     },
     "execution_count": 38,
     "metadata": {},
     "output_type": "execute_result"
    }
   ],
   "source": [
    "eigen_vec_2var"
   ]
  },
  {
   "cell_type": "code",
   "execution_count": 44,
   "metadata": {
    "collapsed": false
   },
   "outputs": [
    {
     "data": {
      "text/plain": [
       "0.0"
      ]
     },
     "execution_count": 44,
     "metadata": {},
     "output_type": "execute_result"
    }
   ],
   "source": [
    "eigen_vec_2var[1].dot(eigen_vec_2var[0])"
   ]
  },
  {
   "cell_type": "markdown",
   "metadata": {},
   "source": [
    "So our eigen vectors and eigen values are:\n",
    "$$ \\lambda_1 = 1.93, \\lambda_2 = 0.09 $$\n",
    "\n",
    "$$ \\vec{v_1} = \\begin{bmatrix} 0.707 \\\\ -0.707\\end{bmatrix} $$\n",
    "\n",
    "$$ \\vec{v_2} = \\begin{bmatrix}  0.707 \\\\  0.707\\end{bmatrix} $$\n",
    "\n",
    "These are orthogonal to each other. Let us plots to see these eigen vectors\n"
   ]
  },
  {
   "cell_type": "code",
   "execution_count": 41,
   "metadata": {
    "collapsed": true
   },
   "outputs": [],
   "source": [
    "def plot2var_eigen (m, xlabel, ylabel):\n",
    "    x = m[:,0]\n",
    "    y = m[:,1]\n",
    "    fig, ax = plt.subplots(figsize=(6, 6))\n",
    "    plt.scatter(x, y, s = 40, alpha = 0.8)\n",
    "    sns.rugplot(x, color=\"m\", ax=ax)\n",
    "    sns.rugplot(y, color=\"m\", vertical=True, ax=ax)\n",
    "       \n",
    "    cov_mat = np.cov(m.T)\n",
    "    eigen_val, eigen_vec = np.linalg.eig(cov_mat)\n",
    "    print(eigen_vec)\n",
    "    \n",
    "    plt.quiver(eigen_vec[0, 0], eigen_vec[0, 1], angles='xy', scale_units='xy', scale=1, color='brown')\n",
    "    plt.quiver(eigen_vec[1, 0], eigen_vec[1, 1], angles='xy', scale_units='xy', scale=1, color='brown')\n",
    "\n",
    "    plt.xlabel(xlabel)\n",
    "    plt.ylabel(ylabel)"
   ]
  },
  {
   "cell_type": "code",
   "execution_count": 42,
   "metadata": {
    "collapsed": false
   },
   "outputs": [
    {
     "name": "stdout",
     "output_type": "stream",
     "text": [
      "[[ 0.70710678 -0.70710678]\n",
      " [ 0.70710678  0.70710678]]\n"
     ]
    },
    {
     "data": {
      "image/png": "[encoded data removed]",
      "text/plain": [
       "<matplotlib.figure.Figure at 0x110f86080>"
      ]
     },
     "metadata": {},
     "output_type": "display_data"
    }
   ],
   "source": [
    "plot2var_eigen(input_2var_center, 'x' ,'y')"
   ]
  },
  {
   "cell_type": "markdown",
   "metadata": {},
   "source": [
    "Let us project our orginal values to see the new results"
   ]
  },
  {
   "cell_type": "code",
   "execution_count": 21,
   "metadata": {
    "collapsed": false
   },
   "outputs": [
    {
     "data": {
      "text/plain": [
       "array([[-1.71247898, -1.67311165, -1.63374432, -1.59437698, -1.55500965,\n",
       "        -1.51564232, -1.47627499, -1.43690765, -1.39754032, -1.35817299,\n",
       "        -1.31880565, -1.27943832, -1.24007099, -1.20070366, -1.16133632,\n",
       "        -1.12196899, -1.08260166, -1.04323432, -1.00386699, -0.96449966,\n",
       "        -0.92513232, -0.88576499, -0.84639766, -0.80703033, -0.76766299,\n",
       "        -0.72829566, -0.68892833, -0.64956099, -0.61019366, -0.57082633,\n",
       "        -0.53145899, -0.49209166, -0.45272433, -0.413357  , -0.37398966,\n",
       "        -0.33462233, -0.295255  , -0.25588766, -0.21652033, -0.177153  ,\n",
       "        -0.13778567, -0.09841833, -0.059051  , -0.01968367,  0.01968367,\n",
       "         0.059051  ,  0.09841833,  0.13778567,  0.177153  ,  0.21652033,\n",
       "         0.25588766,  0.295255  ,  0.33462233,  0.37398966,  0.413357  ,\n",
       "         0.45272433,  0.49209166,  0.53145899,  0.57082633,  0.61019366,\n",
       "         0.64956099,  0.68892833,  0.72829566,  0.76766299,  0.80703033,\n",
       "         0.84639766,  0.88576499,  0.92513232,  0.96449966,  1.00386699,\n",
       "         1.04323432,  1.08260166,  1.12196899,  1.16133632,  1.20070366,\n",
       "         1.24007099,  1.27943832,  1.31880565,  1.35817299,  1.39754032,\n",
       "         1.43690765,  1.47627499,  1.51564232,  1.55500965,  1.59437698,\n",
       "         1.63374432,  1.67311165,  1.71247898],\n",
       "       [-1.96429874, -1.17702204, -1.39858965, -2.0078155 , -1.6371839 ,\n",
       "        -0.79687066, -2.23155331, -1.47500686, -0.82770581, -1.56077797,\n",
       "        -1.45696513, -1.21022089, -0.60213995, -1.33435196, -1.22799089,\n",
       "        -1.18845327, -0.20018789, -0.17102767, -0.56150828, -0.74827397,\n",
       "        -0.58555793, -0.27779772, -1.1168592 , -0.31923677, -1.15943204,\n",
       "        -0.90116453, -0.30795722, -1.11427946, -0.61348521, -0.83769245,\n",
       "        -0.58302908, -1.46407087, -1.05760516, -0.63505478, -0.0121005 ,\n",
       "        -0.37314029, -0.27342893,  0.00981232, -0.51952583, -0.06397373,\n",
       "        -0.42064819, -0.71720663, -0.1990446 ,  0.18493485,  0.13616975,\n",
       "         0.0458575 ,  0.94898009,  0.27116705,  0.51129226,  1.00155404,\n",
       "        -0.23625782, -0.10812213,  0.93143367,  0.05082276,  0.38540856,\n",
       "         0.79641   ,  0.76805994,  1.11578537,  1.05835572,  0.94069516,\n",
       "         0.31241716,  0.91381638,  0.77655873,  0.22097351,  1.24648731,\n",
       "         1.06253644,  0.82388171,  0.75947718,  0.44744492,  0.98762624,\n",
       "         1.12067315,  0.68804702,  1.4430039 ,  0.6642272 ,  0.33030811,\n",
       "         1.50702648,  1.02264832,  1.15873235,  0.93820333,  0.69713244,\n",
       "         1.7650708 ,  1.10000534,  1.98351817,  1.71172106,  1.34311921,\n",
       "         1.10107522,  1.26460568,  1.127539  ]])"
      ]
     },
     "execution_count": 21,
     "metadata": {},
     "output_type": "execute_result"
    }
   ],
   "source": [
    "input_2var_center.T"
   ]
  },
  {
   "cell_type": "code",
   "execution_count": 107,
   "metadata": {
    "collapsed": false
   },
   "outputs": [
    {
     "data": {
      "text/plain": [
       "array([[ 0.70710678, -0.70710678],\n",
       "       [ 0.70710678,  0.70710678]])"
      ]
     },
     "execution_count": 107,
     "metadata": {},
     "output_type": "execute_result"
    }
   ],
   "source": [
    "eigen_vec_2var"
   ]
  },
  {
   "cell_type": "code",
   "execution_count": 108,
   "metadata": {
    "collapsed": false
   },
   "outputs": [
    {
     "data": {
      "text/plain": [
       "(2, 88)"
      ]
     },
     "execution_count": 108,
     "metadata": {},
     "output_type": "execute_result"
    }
   ],
   "source": [
    "input_2var_center.T.shape"
   ]
  },
  {
   "cell_type": "code",
   "execution_count": 109,
   "metadata": {
    "collapsed": false
   },
   "outputs": [
    {
     "data": {
      "text/plain": [
       "(2, 2)"
      ]
     },
     "execution_count": 109,
     "metadata": {},
     "output_type": "execute_result"
    }
   ],
   "source": [
    "eigen_vec_2var.shape"
   ]
  },
  {
   "cell_type": "code",
   "execution_count": 110,
   "metadata": {
    "collapsed": false
   },
   "outputs": [],
   "source": [
    "output_2var_projection = eigen_vec_2var.dot(input_2var_center.T)"
   ]
  },
  {
   "cell_type": "code",
   "execution_count": 111,
   "metadata": {
    "collapsed": false
   },
   "outputs": [
    {
     "data": {
      "text/plain": [
       "array([  12.7008858 ,  277.28193421])"
      ]
     },
     "execution_count": 111,
     "metadata": {},
     "output_type": "execute_result"
    }
   ],
   "source": [
    "input_2var_sd"
   ]
  },
  {
   "cell_type": "code",
   "execution_count": 112,
   "metadata": {
    "collapsed": false
   },
   "outputs": [
    {
     "data": {
      "text/plain": [
       "array([   33.75      ,  1176.10149293])"
      ]
     },
     "execution_count": 112,
     "metadata": {},
     "output_type": "execute_result"
    }
   ],
   "source": [
    "input_2var_mean"
   ]
  },
  {
   "cell_type": "code",
   "execution_count": 113,
   "metadata": {
    "collapsed": false
   },
   "outputs": [
    {
     "data": {
      "text/plain": [
       "array([[  1.78063455e-01,  -3.50788327e-01,  -1.66279461e-01,\n",
       "          2.92345175e-01,   5.81059672e-02,  -5.08248311e-01,\n",
       "          5.34062422e-01,   2.69402094e-02,  -4.02933848e-01,\n",
       "          1.43263354e-01,   9.76934991e-02,  -4.89441134e-02,\n",
       "         -4.51085362e-01,   9.45036231e-02,   4.71318961e-02,\n",
       "          4.70114833e-02,  -6.23960760e-01,  -6.16743237e-01,\n",
       "         -3.12794841e-01,  -1.52894652e-01,  -2.40115357e-01,\n",
       "         -4.29897778e-01,   1.91245191e-01,  -3.44922133e-01,\n",
       "          2.77022553e-01,   1.22236749e-01,  -2.69387254e-01,\n",
       "          3.28605576e-01,   2.32747495e-03,   1.88702844e-01,\n",
       "          3.64655542e-02,   6.87293091e-01,   4.27715335e-01,\n",
       "          1.56764003e-01,  -2.55894282e-01,   2.72363103e-02,\n",
       "         -1.54333633e-02,  -1.87878258e-01,   2.14257243e-01,\n",
       "         -8.00298257e-02,   2.00014012e-01,   4.37549403e-01,\n",
       "          9.89904259e-02,  -1.44687142e-01,  -8.23681009e-02,\n",
       "          9.32920955e-03,  -6.01437983e-01,  -9.43148790e-02,\n",
       "         -2.36272140e-01,  -5.55102658e-01,   3.47999409e-01,\n",
       "          2.85230704e-01,  -4.22009345e-01,   2.28513508e-01,\n",
       "          1.97625309e-02,  -2.43022465e-01,  -1.95139042e-01,\n",
       "         -4.13181141e-01,  -3.44735338e-01,  -2.33699853e-01,\n",
       "          2.38396688e-01,  -1.59019869e-01,  -3.41271438e-02,\n",
       "          3.86567843e-01,  -3.10743012e-01,  -1.52833201e-01,\n",
       "          4.37580854e-02,   1.17135877e-01,   3.65612912e-01,\n",
       "          1.14839440e-02,  -5.47575203e-02,   2.78992259e-01,\n",
       "         -2.27005961e-01,   3.51509232e-01,   6.15462591e-01,\n",
       "         -1.88766036e-01,   1.81577954e-01,   1.13188916e-01,\n",
       "          2.96963390e-01,   4.95263163e-01,  -2.32046384e-01,\n",
       "          2.66062817e-01,  -3.30838190e-01,  -1.10811698e-01,\n",
       "          1.77666076e-01,   3.76653931e-01,   2.88857344e-01,\n",
       "          4.13615031e-01],\n",
       "       [ -2.59987446e+00,  -2.01534886e+00,  -2.14418391e+00,\n",
       "         -2.54713473e+00,  -2.25722171e+00,  -1.63519361e+00,\n",
       "         -2.62183053e+00,  -2.05903450e+00,  -1.57348663e+00,\n",
       "         -2.06401001e+00,  -1.96276634e+00,  -1.76045491e+00,\n",
       "         -1.30263985e+00,  -1.79255502e+00,  -1.68950947e+00,\n",
       "         -1.63371524e+00,  -9.07069185e-01,  -8.58612892e-01,\n",
       "         -1.10688747e+00,  -1.21111384e+00,  -1.06821932e+00,\n",
       "         -8.22763086e-01,  -1.38823224e+00,  -7.96391099e-01,\n",
       "         -1.36266197e+00,  -1.15220235e+00,  -7.04904530e-01,\n",
       "         -1.24722354e+00,  -8.65271626e-01,  -9.95973179e-01,\n",
       "         -7.88062073e-01,  -1.38321579e+00,  -1.06796422e+00,\n",
       "         -7.41339073e-01,  -2.73006972e-01,  -5.00463748e-01,\n",
       "         -4.02120258e-01,  -1.74001547e-01,  -5.20463232e-01,\n",
       "         -1.70502347e-01,  -3.94872368e-01,  -5.76733944e-01,\n",
       "         -1.82501150e-01,   1.16850233e-01,   1.10205009e-01,\n",
       "          7.41815147e-02,   7.40622524e-01,   2.89173236e-01,\n",
       "          4.86804313e-01,   8.61308647e-01,   1.38803961e-02,\n",
       "          1.32322918e-01,   8.95236783e-01,   3.00387746e-01,\n",
       "          5.64812539e-01,   8.83271352e-01,   8.91061744e-01,\n",
       "          1.16477766e+00,   1.15200567e+00,   1.09664400e+00,\n",
       "          6.80221279e-01,   1.13331165e+00,   1.06409274e+00,\n",
       "          6.99071572e-01,   1.45205624e+00,   1.34982025e+00,\n",
       "          1.20890278e+00,   1.19119880e+00,   9.98395585e-01,\n",
       "          1.40819837e+00,   1.53011365e+00,   1.25203769e+00,\n",
       "          1.81370972e+00,   1.29086835e+00,   1.08258880e+00,\n",
       "          1.94249125e+00,   1.62782107e+00,   1.75188393e+00,\n",
       "          1.62378327e+00,   1.48115731e+00,   2.26414068e+00,\n",
       "          1.82170529e+00,   2.47428011e+00,   2.30992744e+00,\n",
       "          2.07712348e+00,   1.93380944e+00,   2.07727984e+00,\n",
       "          2.00819597e+00]])"
      ]
     },
     "execution_count": 113,
     "metadata": {},
     "output_type": "execute_result"
    }
   ],
   "source": [
    "output_2var_projection"
   ]
  },
  {
   "cell_type": "code",
   "execution_count": 114,
   "metadata": {
    "collapsed": false
   },
   "outputs": [
    {
     "data": {
      "text/plain": [
       "array([[  2.26156361e+00,  -7.20898219e+02],\n",
       "       [ -4.45532248e+00,  -5.58819830e+02],\n",
       "       [ -2.11189644e+00,  -5.94543462e+02],\n",
       "       [  3.71304268e+00,  -7.06274445e+02],\n",
       "       [  7.37997254e-01,  -6.25886801e+02],\n",
       "       [ -6.45520375e+00,  -4.53409648e+02],\n",
       "       [  6.78306584e+00,  -7.26986240e+02],\n",
       "       [  3.42164523e-01,  -5.70933069e+02],\n",
       "       [ -5.11761679e+00,  -4.36299415e+02],\n",
       "       [  1.81957150e+00,  -5.72312689e+02],\n",
       "       [  1.24079398e+00,  -5.44239648e+02],\n",
       "       [ -6.21633594e-01,  -4.88142343e+02],\n",
       "       [ -5.72918367e+00,  -3.61198497e+02],\n",
       "       [  1.20027972e+00,  -4.97043122e+02],\n",
       "       [  5.98616830e-01,  -4.68470455e+02],\n",
       "       [  5.97087481e-01,  -4.52999723e+02],\n",
       "       [ -7.92485435e+00,  -2.51513898e+02],\n",
       "       [ -7.83318542e+00,  -2.38077843e+02],\n",
       "       [ -3.97277155e+00,  -3.06919899e+02],\n",
       "       [ -1.94189751e+00,  -3.35819989e+02],\n",
       "       [ -3.04967773e+00,  -2.96197920e+02],\n",
       "       [ -5.46008258e+00,  -2.28137340e+02],\n",
       "       [  2.42898333e+00,  -3.84931720e+02],\n",
       "       [ -4.38081661e+00,  -2.20824864e+02],\n",
       "       [  3.51843180e+00,  -3.77841546e+02],\n",
       "       [  1.55251498e+00,  -3.19484896e+02],\n",
       "       [ -3.42145674e+00,  -1.95457291e+02],\n",
       "       [  4.17358190e+00,  -3.45832556e+02],\n",
       "       [  2.95609936e-02,  -2.39924190e+02],\n",
       "       [  2.39669327e+00,  -2.76165369e+02],\n",
       "       [  4.63144840e-01,  -2.18515376e+02],\n",
       "       [  8.72923106e+00,  -3.83540751e+02],\n",
       "       [  5.43236362e+00,  -2.96127185e+02],\n",
       "       [  1.99104170e+00,  -2.05559932e+02],\n",
       "       [ -3.25008405e+00,  -7.56999012e+01],\n",
       "       [  3.45925266e-01,  -1.38769556e+02],\n",
       "       [ -1.96017384e-01,  -1.11500683e+02],\n",
       "       [ -2.38622030e+00,  -4.82474855e+01],\n",
       "       [  2.72125678e+00,  -1.44315052e+02],\n",
       "       [ -1.01644968e+00,  -4.72772206e+01],\n",
       "       [  2.54035512e+00,  -1.09490974e+02],\n",
       "       [  5.55726500e+00,  -1.59917903e+02],\n",
       "       [  1.25726609e+00,  -5.06042719e+01],\n",
       "       [ -1.83765486e+00,   3.24004588e+01],\n",
       "       [ -1.04614784e+00,   3.05578580e+01],\n",
       "       [  1.18489225e-01,   2.05691939e+01],\n",
       "       [ -7.63879514e+00,   2.05361246e+02],\n",
       "       [ -1.19788251e+00,   8.01825141e+01],\n",
       "       [ -3.00086547e+00,   1.34982041e+02],\n",
       "       [ -7.05029546e+00,   2.38825327e+02],\n",
       "       [  4.41990075e+00,   3.84878308e+00],\n",
       "       [  3.62268259e+00,   3.66907546e+01],\n",
       "       [ -5.35989250e+00,   2.48232987e+02],\n",
       "       [  2.90232396e+00,   8.32920952e+01],\n",
       "       [  2.51001648e-01,   1.56612313e+02],\n",
       "       [ -3.08660058e+00,   2.44915189e+02],\n",
       "       [ -2.47843869e+00,   2.47075324e+02],\n",
       "       [ -5.24776649e+00,   3.22971802e+02],\n",
       "       [ -4.37844416e+00,   3.19430361e+02],\n",
       "       [ -2.96819514e+00,   3.04079570e+02],\n",
       "       [  3.02784911e+00,   1.88613072e+02],\n",
       "       [ -2.01969319e+00,   3.14246847e+02],\n",
       "       [ -4.33444956e-01,   2.95053694e+02],\n",
       "       [  4.90975403e+00,   1.93839918e+02],\n",
       "       [ -3.94671151e+00,   4.02628964e+02],\n",
       "       [ -1.94111703e+00,   3.74280770e+02],\n",
       "       [  5.55766446e-01,   3.35206901e+02],\n",
       "       [  1.48772940e+00,   3.30297908e+02],\n",
       "       [  4.64360784e+00,   2.76837059e+02],\n",
       "       [  1.45856261e-01,   3.90467967e+02],\n",
       "       [ -6.95469012e-01,   4.24272872e+02],\n",
       "       [  3.54344882e+00,   3.47167431e+02],\n",
       "       [ -2.88317679e+00,   5.02908940e+02],\n",
       "       [  4.46447862e+00,   3.57934472e+02],\n",
       "       [  7.81692008e+00,   3.00182317e+02],\n",
       "       [ -2.39749586e+00,   5.38617730e+02],\n",
       "       [  2.30620085e+00,   4.51365376e+02],\n",
       "       [  1.43759949e+00,   4.85765764e+02],\n",
       "       [  3.77169811e+00,   4.50245765e+02],\n",
       "       [  6.29028087e+00,   4.10698164e+02],\n",
       "       [ -2.94719463e+00,   6.27805306e+02],\n",
       "       [  3.37923346e+00,   5.05125966e+02],\n",
       "       [ -4.20193807e+00,   6.86073176e+02],\n",
       "       [ -1.40740672e+00,   6.40501148e+02],\n",
       "       [  2.25651655e+00,   5.75948816e+02],\n",
       "       [  4.78383856e+00,   5.36210422e+02],\n",
       "       [  3.66874413e+00,   5.75992173e+02],\n",
       "       [  5.25327728e+00,   5.56836464e+02]])"
      ]
     },
     "execution_count": 114,
     "metadata": {},
     "output_type": "execute_result"
    }
   ],
   "source": [
    "np.multiply(input_2var_sd, output_2var_projection.T)"
   ]
  },
  {
   "cell_type": "code",
   "execution_count": 97,
   "metadata": {
    "collapsed": false
   },
   "outputs": [
    {
     "data": {
      "text/plain": [
       "(2,)"
      ]
     },
     "execution_count": 97,
     "metadata": {},
     "output_type": "execute_result"
    }
   ],
   "source": [
    "input_2var_mean.shape"
   ]
  },
  {
   "cell_type": "code",
   "execution_count": 95,
   "metadata": {
    "collapsed": false
   },
   "outputs": [
    {
     "data": {
      "text/plain": [
       "(88, 2)"
      ]
     },
     "execution_count": 95,
     "metadata": {},
     "output_type": "execute_result"
    }
   ],
   "source": [
    "np.multiply(input_2var_sd, output_2var_projection.T).shape"
   ]
  },
  {
   "cell_type": "code",
   "execution_count": 123,
   "metadata": {
    "collapsed": false
   },
   "outputs": [
    {
     "ename": "ValueError",
     "evalue": "operands could not be broadcast together with shapes (2,) (2,88) ",
     "output_type": "error",
     "traceback": [
      "\u001b[0;31m---------------------------------------------------------------------------\u001b[0m",
      "\u001b[0;31mValueError\u001b[0m                                Traceback (most recent call last)",
      "\u001b[0;32m<ipython-input-123-1f6c1f7c3906>\u001b[0m in \u001b[0;36m<module>\u001b[0;34m()\u001b[0m\n\u001b[0;32m----> 1\u001b[0;31m \u001b[0moutput_2var\u001b[0m \u001b[0;34m=\u001b[0m \u001b[0minput_2var_mean\u001b[0m \u001b[0;34m+\u001b[0m \u001b[0mnp\u001b[0m\u001b[0;34m.\u001b[0m\u001b[0mmultiply\u001b[0m\u001b[0;34m(\u001b[0m\u001b[0minput_2var_sd\u001b[0m\u001b[0;34m.\u001b[0m\u001b[0mT\u001b[0m\u001b[0;34m,\u001b[0m \u001b[0moutput_2var_projection\u001b[0m\u001b[0;34m)\u001b[0m\u001b[0;34m\u001b[0m\u001b[0m\n\u001b[0m",
      "\u001b[0;31mValueError\u001b[0m: operands could not be broadcast together with shapes (2,) (2,88) "
     ]
    }
   ],
   "source": [
    "output_2var = input_2var_mean + np.multiply(input_2var_sd.T, output_2var_projection)"
   ]
  },
  {
   "cell_type": "code",
   "execution_count": 145,
   "metadata": {
    "collapsed": false
   },
   "outputs": [
    {
     "data": {
      "image/png": "[encoded data removed]",
      "text/plain": [
       "<matplotlib.figure.Figure at 0x1140424a8>"
      ]
     },
     "metadata": {},
     "output_type": "display_data"
    }
   ],
   "source": [
    "plot2var_center(output_2var, 'pca1' ,'pca2')"
   ]
  },
  {
   "cell_type": "markdown",
   "metadata": {},
   "source": [
    "## Exercise  - No Centering"
   ]
  },
  {
   "cell_type": "markdown",
   "metadata": {},
   "source": [
    "Re-run the PCA analysis on the same dataset without centering"
   ]
  },
  {
   "cell_type": "code",
   "execution_count": null,
   "metadata": {
    "collapsed": true
   },
   "outputs": [],
   "source": []
  },
  {
   "cell_type": "code",
   "execution_count": null,
   "metadata": {
    "collapsed": true
   },
   "outputs": [],
   "source": []
  },
  {
   "cell_type": "markdown",
   "metadata": {},
   "source": [
    "## Exercise - Iris Dataset\n",
    "\n",
    "Run PCA with 2 dimensions on the iris dataset from the sklearn"
   ]
  },
  {
   "cell_type": "code",
   "execution_count": 65,
   "metadata": {
    "collapsed": true
   },
   "outputs": [],
   "source": [
    "from sklearn import datasets"
   ]
  },
  {
   "cell_type": "code",
   "execution_count": 60,
   "metadata": {
    "collapsed": false
   },
   "outputs": [],
   "source": [
    "iris = datasets.load_iris()"
   ]
  },
  {
   "cell_type": "code",
   "execution_count": 120,
   "metadata": {
    "collapsed": false
   },
   "outputs": [],
   "source": [
    "X = iris.data"
   ]
  },
  {
   "cell_type": "code",
   "execution_count": null,
   "metadata": {
    "collapsed": true
   },
   "outputs": [],
   "source": []
  },
  {
   "cell_type": "code",
   "execution_count": null,
   "metadata": {
    "collapsed": true
   },
   "outputs": [],
   "source": []
  },
  {
   "cell_type": "code",
   "execution_count": null,
   "metadata": {
    "collapsed": true
   },
   "outputs": [],
   "source": []
  },
  {
   "cell_type": "code",
   "execution_count": null,
   "metadata": {
    "collapsed": true
   },
   "outputs": [],
   "source": []
  },
  {
   "cell_type": "code",
   "execution_count": null,
   "metadata": {
    "collapsed": true
   },
   "outputs": [],
   "source": []
  },
  {
   "cell_type": "code",
   "execution_count": null,
   "metadata": {
    "collapsed": true
   },
   "outputs": [],
   "source": []
  },
  {
   "cell_type": "markdown",
   "metadata": {},
   "source": [
    "## PCA using sklearn"
   ]
  },
  {
   "cell_type": "code",
   "execution_count": 99,
   "metadata": {
    "collapsed": true
   },
   "outputs": [],
   "source": [
    "from sklearn.decomposition import PCA"
   ]
  },
  {
   "cell_type": "code",
   "execution_count": 100,
   "metadata": {
    "collapsed": true
   },
   "outputs": [],
   "source": [
    "pca = PCA(n_components=2)"
   ]
  },
  {
   "cell_type": "code",
   "execution_count": 101,
   "metadata": {
    "collapsed": false
   },
   "outputs": [
    {
     "data": {
      "text/plain": [
       "PCA(copy=True, n_components=2, whiten=False)"
      ]
     },
     "execution_count": 101,
     "metadata": {},
     "output_type": "execute_result"
    }
   ],
   "source": [
    "pca.fit(input_2var_center)"
   ]
  },
  {
   "cell_type": "code",
   "execution_count": 102,
   "metadata": {
    "collapsed": true
   },
   "outputs": [],
   "source": [
    "output_2var = pca.transform(input_2var_center)"
   ]
  },
  {
   "cell_type": "code",
   "execution_count": 143,
   "metadata": {
    "collapsed": false
   },
   "outputs": [
    {
     "data": {
      "image/png": "[encoded data removed]",
      "text/plain": [
       "<matplotlib.figure.Figure at 0x1142cb630>"
      ]
     },
     "metadata": {},
     "output_type": "display_data"
    }
   ],
   "source": [
    "plot2var_center(output_2var, 'pca1', 'pca2')"
   ]
  },
  {
   "cell_type": "code",
   "execution_count": null,
   "metadata": {
    "collapsed": true
   },
   "outputs": [],
   "source": []
  }
 ],
 "metadata": {
  "kernelspec": {
   "display_name": "Python 3",
   "language": "python",
   "name": "python3"
  },
  "language_info": {
   "codemirror_mode": {
    "name": "ipython",
    "version": 3
   },
   "file_extension": ".py",
   "mimetype": "text/x-python",
   "name": "python",
   "nbconvert_exporter": "python",
   "pygments_lexer": "ipython3",
   "version": "3.5.2"
  }
 },
 "nbformat": 4,
 "nbformat_minor": 0
}
