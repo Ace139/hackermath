{
 "cells": [
  {
   "cell_type": "markdown",
   "metadata": {},
   "source": [
    "# Principle Component Analysis (PCA)\n",
    "\n",
    "### Key Equation: $Ax = \\lambda b ~~ \\text{for} ~~ n \\times n $\n",
    "\n",
    "PCA is an orthogonal linear transformation that transforms the data to a new coordinate system such that the greatest variance by some projection of the data comes to lie on the first coordinate (called the first principal component), the second greatest variance on the second coordinate, and so on. This is an Unsupervised Learning Techniques - Which means we don't have a target variable.\n"
   ]
  },
  {
   "cell_type": "code",
   "execution_count": 179,
   "metadata": {
    "collapsed": true
   },
   "outputs": [],
   "source": [
    "import numpy as np\n",
    "import pandas as pd"
   ]
  },
  {
   "cell_type": "code",
   "execution_count": 180,
   "metadata": {
    "collapsed": true
   },
   "outputs": [],
   "source": [
    "import matplotlib.pyplot as plt\n",
    "import seaborn as sns\n",
    "%matplotlib inline\n",
    "plt.style.use('fivethirtyeight')\n",
    "plt.rcParams['figure.figsize'] = (10, 6)"
   ]
  },
  {
   "cell_type": "markdown",
   "metadata": {},
   "source": [
    "## 2 Variables\n",
    "\n",
    "Let us generate a two variable data set - $x,y$\n",
    "\n",
    "$$ y = 50 + 3x + \\epsilon$$ "
   ]
  },
  {
   "cell_type": "code",
   "execution_count": 181,
   "metadata": {
    "collapsed": true
   },
   "outputs": [],
   "source": [
    "np.random.seed(123)"
   ]
  },
  {
   "cell_type": "code",
   "execution_count": 182,
   "metadata": {
    "collapsed": true
   },
   "outputs": [],
   "source": [
    "x = np.arange(12, 56, 0.5)\n",
    "e = np.random.normal(0, 100, x.size)\n",
    "y = 500 + 20*x + e"
   ]
  },
  {
   "cell_type": "code",
   "execution_count": 183,
   "metadata": {
    "collapsed": false
   },
   "outputs": [],
   "source": [
    "input_2var = np.c_[x,y]"
   ]
  },
  {
   "cell_type": "code",
   "execution_count": 184,
   "metadata": {
    "collapsed": true
   },
   "outputs": [],
   "source": [
    "def plot2var (m, xlabel, ylabel):\n",
    "    x = m[:,0]\n",
    "    y = m[:,1]\n",
    "    fig, ax = plt.subplots(figsize=(6, 6))\n",
    "    plt.scatter(x, y, s = 40, alpha = 0.8)\n",
    "    sns.rugplot(x, color=\"m\", ax=ax)\n",
    "    sns.rugplot(y, color=\"m\", vertical=True, ax=ax)\n",
    "       \n",
    "    plt.xlabel(xlabel)\n",
    "    plt.ylabel(ylabel)"
   ]
  },
  {
   "cell_type": "code",
   "execution_count": 185,
   "metadata": {
    "collapsed": false
   },
   "outputs": [
    {
     "data": {
      "image/png": "[encoded data removed]",
      "text/plain": [
       "<matplotlib.figure.Figure at 0x114196d68>"
      ]
     },
     "metadata": {},
     "output_type": "display_data"
    }
   ],
   "source": [
    "plot2var(input_2var, 'x', 'y')"
   ]
  },
  {
   "cell_type": "markdown",
   "metadata": {},
   "source": [
    "**Centering the Variables** (Remove mean and divide by std dev)"
   ]
  },
  {
   "cell_type": "code",
   "execution_count": 186,
   "metadata": {
    "collapsed": false
   },
   "outputs": [],
   "source": [
    "input_2var_mean = np.mean(input_2var, axis=0)"
   ]
  },
  {
   "cell_type": "code",
   "execution_count": 187,
   "metadata": {
    "collapsed": true
   },
   "outputs": [],
   "source": [
    "input_2var_sd = np.std(input_2var, axis=0)"
   ]
  },
  {
   "cell_type": "code",
   "execution_count": 188,
   "metadata": {
    "collapsed": false
   },
   "outputs": [],
   "source": [
    "input_2var_center = np.subtract(input_2var, input_2var_mean) / input_2var_sd"
   ]
  },
  {
   "cell_type": "code",
   "execution_count": 189,
   "metadata": {
    "collapsed": false
   },
   "outputs": [
    {
     "data": {
      "text/plain": [
       "array([[-1.71247898, -1.67311165, -1.63374432, -1.59437698, -1.55500965,\n",
       "        -1.51564232, -1.47627499, -1.43690765, -1.39754032, -1.35817299,\n",
       "        -1.31880565, -1.27943832, -1.24007099, -1.20070366, -1.16133632,\n",
       "        -1.12196899, -1.08260166, -1.04323432, -1.00386699, -0.96449966,\n",
       "        -0.92513232, -0.88576499, -0.84639766, -0.80703033, -0.76766299,\n",
       "        -0.72829566, -0.68892833, -0.64956099, -0.61019366, -0.57082633,\n",
       "        -0.53145899, -0.49209166, -0.45272433, -0.413357  , -0.37398966,\n",
       "        -0.33462233, -0.295255  , -0.25588766, -0.21652033, -0.177153  ,\n",
       "        -0.13778567, -0.09841833, -0.059051  , -0.01968367,  0.01968367,\n",
       "         0.059051  ,  0.09841833,  0.13778567,  0.177153  ,  0.21652033,\n",
       "         0.25588766,  0.295255  ,  0.33462233,  0.37398966,  0.413357  ,\n",
       "         0.45272433,  0.49209166,  0.53145899,  0.57082633,  0.61019366,\n",
       "         0.64956099,  0.68892833,  0.72829566,  0.76766299,  0.80703033,\n",
       "         0.84639766,  0.88576499,  0.92513232,  0.96449966,  1.00386699,\n",
       "         1.04323432,  1.08260166,  1.12196899,  1.16133632,  1.20070366,\n",
       "         1.24007099,  1.27943832,  1.31880565,  1.35817299,  1.39754032,\n",
       "         1.43690765,  1.47627499,  1.51564232,  1.55500965,  1.59437698,\n",
       "         1.63374432,  1.67311165,  1.71247898],\n",
       "       [-1.96429874, -1.17702204, -1.39858965, -2.0078155 , -1.6371839 ,\n",
       "        -0.79687066, -2.23155331, -1.47500686, -0.82770581, -1.56077797,\n",
       "        -1.45696513, -1.21022089, -0.60213995, -1.33435196, -1.22799089,\n",
       "        -1.18845327, -0.20018789, -0.17102767, -0.56150828, -0.74827397,\n",
       "        -0.58555793, -0.27779772, -1.1168592 , -0.31923677, -1.15943204,\n",
       "        -0.90116453, -0.30795722, -1.11427946, -0.61348521, -0.83769245,\n",
       "        -0.58302908, -1.46407087, -1.05760516, -0.63505478, -0.0121005 ,\n",
       "        -0.37314029, -0.27342893,  0.00981232, -0.51952583, -0.06397373,\n",
       "        -0.42064819, -0.71720663, -0.1990446 ,  0.18493485,  0.13616975,\n",
       "         0.0458575 ,  0.94898009,  0.27116705,  0.51129226,  1.00155404,\n",
       "        -0.23625782, -0.10812213,  0.93143367,  0.05082276,  0.38540856,\n",
       "         0.79641   ,  0.76805994,  1.11578537,  1.05835572,  0.94069516,\n",
       "         0.31241716,  0.91381638,  0.77655873,  0.22097351,  1.24648731,\n",
       "         1.06253644,  0.82388171,  0.75947718,  0.44744492,  0.98762624,\n",
       "         1.12067315,  0.68804702,  1.4430039 ,  0.6642272 ,  0.33030811,\n",
       "         1.50702648,  1.02264832,  1.15873235,  0.93820333,  0.69713244,\n",
       "         1.7650708 ,  1.10000534,  1.98351817,  1.71172106,  1.34311921,\n",
       "         1.10107522,  1.26460568,  1.127539  ]])"
      ]
     },
     "execution_count": 189,
     "metadata": {},
     "output_type": "execute_result"
    }
   ],
   "source": [
    "input_2var_center.T"
   ]
  },
  {
   "cell_type": "code",
   "execution_count": 190,
   "metadata": {
    "collapsed": true
   },
   "outputs": [],
   "source": [
    "def plot2var_center (m, xlabel, ylabel):\n",
    "    x = m[:,0]\n",
    "    y = m[:,1]\n",
    "    fig, ax = plt.subplots(figsize=(6, 6))\n",
    "    plt.scatter(x, y, s = 40, alpha = 0.8)\n",
    "    sns.rugplot(x, color=\"m\", ax=ax)\n",
    "    sns.rugplot(y, color=\"m\", vertical=True, ax=ax)\n",
    "       \n",
    "    plt.xlabel(xlabel)\n",
    "    plt.ylabel(ylabel)\n",
    "    \n",
    "    plt.xlim(-3,3)\n",
    "    plt.ylim(-3,3)"
   ]
  },
  {
   "cell_type": "code",
   "execution_count": 191,
   "metadata": {
    "collapsed": false
   },
   "outputs": [
    {
     "data": {
      "image/png": "[encoded data removed]",
      "text/plain": [
       "<matplotlib.figure.Figure at 0x114506e48>"
      ]
     },
     "metadata": {},
     "output_type": "display_data"
    }
   ],
   "source": [
    "plot2var_center(input_2var_center, \"x\", \"y\")"
   ]
  },
  {
   "cell_type": "markdown",
   "metadata": {},
   "source": [
    "**Calculate the Covariance Matrix** (Remove mean and divide by std dev)"
   ]
  },
  {
   "cell_type": "code",
   "execution_count": 192,
   "metadata": {
    "collapsed": false
   },
   "outputs": [],
   "source": [
    "cov_mat_2var = np.cov(input_2var_center.T)"
   ]
  },
  {
   "cell_type": "code",
   "execution_count": 193,
   "metadata": {
    "collapsed": false
   },
   "outputs": [
    {
     "data": {
      "text/plain": [
       "array([[ 1.01149425,  0.92226013],\n",
       "       [ 0.92226013,  1.01149425]])"
      ]
     },
     "execution_count": 193,
     "metadata": {},
     "output_type": "execute_result"
    }
   ],
   "source": [
    "cov_mat_2var"
   ]
  },
  {
   "cell_type": "markdown",
   "metadata": {},
   "source": [
    "So now this is the symetric $A$ matrix we are trying to solve\n",
    "\n",
    "$$ Ax = \\lambda x $$\n",
    "\n",
    "where \n",
    "$$ A = \\begin{bmatrix} 1.01 & -0.92 \\\\ -0.92 & 1.01 \\end{bmatrix} $$\n",
    "\n"
   ]
  },
  {
   "cell_type": "markdown",
   "metadata": {},
   "source": [
    "**Lets get the eigen-vectors for this matrix**"
   ]
  },
  {
   "cell_type": "code",
   "execution_count": 194,
   "metadata": {
    "collapsed": true
   },
   "outputs": [],
   "source": [
    "eigen_val_2var, eigen_vec_2var = np.linalg.eig(cov_mat_2var)"
   ]
  },
  {
   "cell_type": "code",
   "execution_count": 195,
   "metadata": {
    "collapsed": false
   },
   "outputs": [
    {
     "data": {
      "text/plain": [
       "array([ 1.93375438,  0.08923413])"
      ]
     },
     "execution_count": 195,
     "metadata": {},
     "output_type": "execute_result"
    }
   ],
   "source": [
    "eigen_val_2var"
   ]
  },
  {
   "cell_type": "code",
   "execution_count": 196,
   "metadata": {
    "collapsed": false
   },
   "outputs": [
    {
     "data": {
      "text/plain": [
       "array([[ 0.70710678, -0.70710678],\n",
       "       [ 0.70710678,  0.70710678]])"
      ]
     },
     "execution_count": 196,
     "metadata": {},
     "output_type": "execute_result"
    }
   ],
   "source": [
    "eigen_vec_2var"
   ]
  },
  {
   "cell_type": "code",
   "execution_count": 197,
   "metadata": {
    "collapsed": false
   },
   "outputs": [
    {
     "data": {
      "text/plain": [
       "0.0"
      ]
     },
     "execution_count": 197,
     "metadata": {},
     "output_type": "execute_result"
    }
   ],
   "source": [
    "eigen_vec_2var[1].dot(eigen_vec_2var[0])"
   ]
  },
  {
   "cell_type": "markdown",
   "metadata": {},
   "source": [
    "So our eigen vectors and eigen values are:\n",
    "$$ \\lambda_1 = 1.93, \\lambda_2 = 0.09 $$\n",
    "\n",
    "$$ \\vec{v_1} = \\begin{bmatrix} 0.707 \\\\ -0.707\\end{bmatrix} $$\n",
    "\n",
    "$$ \\vec{v_2} = \\begin{bmatrix}  0.707 \\\\  0.707\\end{bmatrix} $$\n",
    "\n",
    "These are orthogonal to each other. Let us plots to see these eigen vectors\n"
   ]
  },
  {
   "cell_type": "code",
   "execution_count": 243,
   "metadata": {
    "collapsed": true
   },
   "outputs": [],
   "source": [
    "def plot2var_eigen (m, xlabel, ylabel):\n",
    "    x = m[:,0]\n",
    "    y = m[:,1]\n",
    "    fig, ax = plt.subplots(figsize=(6, 6))\n",
    "    plt.scatter(x, y, s = 40, alpha = 0.8)\n",
    "    sns.rugplot(x, color=\"m\", ax=ax)\n",
    "    sns.rugplot(y, color=\"m\", vertical=True, ax=ax)\n",
    "       \n",
    "    cov_mat = np.cov(m.T)\n",
    "    eigen_val, eigen_vec = np.linalg.eig(cov_mat)\n",
    "    \n",
    "    plt.quiver(eigen_vec[0, 0], eigen_vec[0, 1], angles='xy', scale_units='xy', scale=1, color='brown')\n",
    "    plt.quiver(eigen_vec[1, 0], eigen_vec[1, 1], angles='xy', scale_units='xy', scale=1, color='brown')\n",
    "\n",
    "    plt.xlabel(xlabel)\n",
    "    plt.ylabel(ylabel)\n",
    "    \n",
    "    plt.xlim(-3,3)\n",
    "    plt.ylim(-3,3)"
   ]
  },
  {
   "cell_type": "code",
   "execution_count": 244,
   "metadata": {
    "collapsed": false
   },
   "outputs": [
    {
     "data": {
      "image/png": "[encoded data removed]",
      "text/plain": [
       "<matplotlib.figure.Figure at 0x1140da5c0>"
      ]
     },
     "metadata": {},
     "output_type": "display_data"
    }
   ],
   "source": [
    "plot2var_eigen(input_2var_center, 'x' ,'y')"
   ]
  },
  {
   "cell_type": "markdown",
   "metadata": {},
   "source": [
    "Let us project our orginal values to see the new results"
   ]
  },
  {
   "cell_type": "code",
   "execution_count": 200,
   "metadata": {
    "collapsed": false
   },
   "outputs": [
    {
     "data": {
      "text/plain": [
       "array([[-1.71247898, -1.67311165, -1.63374432, -1.59437698, -1.55500965,\n",
       "        -1.51564232, -1.47627499, -1.43690765, -1.39754032, -1.35817299,\n",
       "        -1.31880565, -1.27943832, -1.24007099, -1.20070366, -1.16133632,\n",
       "        -1.12196899, -1.08260166, -1.04323432, -1.00386699, -0.96449966,\n",
       "        -0.92513232, -0.88576499, -0.84639766, -0.80703033, -0.76766299,\n",
       "        -0.72829566, -0.68892833, -0.64956099, -0.61019366, -0.57082633,\n",
       "        -0.53145899, -0.49209166, -0.45272433, -0.413357  , -0.37398966,\n",
       "        -0.33462233, -0.295255  , -0.25588766, -0.21652033, -0.177153  ,\n",
       "        -0.13778567, -0.09841833, -0.059051  , -0.01968367,  0.01968367,\n",
       "         0.059051  ,  0.09841833,  0.13778567,  0.177153  ,  0.21652033,\n",
       "         0.25588766,  0.295255  ,  0.33462233,  0.37398966,  0.413357  ,\n",
       "         0.45272433,  0.49209166,  0.53145899,  0.57082633,  0.61019366,\n",
       "         0.64956099,  0.68892833,  0.72829566,  0.76766299,  0.80703033,\n",
       "         0.84639766,  0.88576499,  0.92513232,  0.96449966,  1.00386699,\n",
       "         1.04323432,  1.08260166,  1.12196899,  1.16133632,  1.20070366,\n",
       "         1.24007099,  1.27943832,  1.31880565,  1.35817299,  1.39754032,\n",
       "         1.43690765,  1.47627499,  1.51564232,  1.55500965,  1.59437698,\n",
       "         1.63374432,  1.67311165,  1.71247898],\n",
       "       [-1.96429874, -1.17702204, -1.39858965, -2.0078155 , -1.6371839 ,\n",
       "        -0.79687066, -2.23155331, -1.47500686, -0.82770581, -1.56077797,\n",
       "        -1.45696513, -1.21022089, -0.60213995, -1.33435196, -1.22799089,\n",
       "        -1.18845327, -0.20018789, -0.17102767, -0.56150828, -0.74827397,\n",
       "        -0.58555793, -0.27779772, -1.1168592 , -0.31923677, -1.15943204,\n",
       "        -0.90116453, -0.30795722, -1.11427946, -0.61348521, -0.83769245,\n",
       "        -0.58302908, -1.46407087, -1.05760516, -0.63505478, -0.0121005 ,\n",
       "        -0.37314029, -0.27342893,  0.00981232, -0.51952583, -0.06397373,\n",
       "        -0.42064819, -0.71720663, -0.1990446 ,  0.18493485,  0.13616975,\n",
       "         0.0458575 ,  0.94898009,  0.27116705,  0.51129226,  1.00155404,\n",
       "        -0.23625782, -0.10812213,  0.93143367,  0.05082276,  0.38540856,\n",
       "         0.79641   ,  0.76805994,  1.11578537,  1.05835572,  0.94069516,\n",
       "         0.31241716,  0.91381638,  0.77655873,  0.22097351,  1.24648731,\n",
       "         1.06253644,  0.82388171,  0.75947718,  0.44744492,  0.98762624,\n",
       "         1.12067315,  0.68804702,  1.4430039 ,  0.6642272 ,  0.33030811,\n",
       "         1.50702648,  1.02264832,  1.15873235,  0.93820333,  0.69713244,\n",
       "         1.7650708 ,  1.10000534,  1.98351817,  1.71172106,  1.34311921,\n",
       "         1.10107522,  1.26460568,  1.127539  ]])"
      ]
     },
     "execution_count": 200,
     "metadata": {},
     "output_type": "execute_result"
    }
   ],
   "source": [
    "input_2var_center.T"
   ]
  },
  {
   "cell_type": "code",
   "execution_count": 201,
   "metadata": {
    "collapsed": false
   },
   "outputs": [
    {
     "data": {
      "text/plain": [
       "array([[ 0.70710678, -0.70710678],\n",
       "       [ 0.70710678,  0.70710678]])"
      ]
     },
     "execution_count": 201,
     "metadata": {},
     "output_type": "execute_result"
    }
   ],
   "source": [
    "eigen_vec_2var"
   ]
  },
  {
   "cell_type": "code",
   "execution_count": 202,
   "metadata": {
    "collapsed": false
   },
   "outputs": [
    {
     "data": {
      "text/plain": [
       "(2, 88)"
      ]
     },
     "execution_count": 202,
     "metadata": {},
     "output_type": "execute_result"
    }
   ],
   "source": [
    "input_2var_center.T.shape"
   ]
  },
  {
   "cell_type": "code",
   "execution_count": 203,
   "metadata": {
    "collapsed": false
   },
   "outputs": [
    {
     "data": {
      "text/plain": [
       "(2, 2)"
      ]
     },
     "execution_count": 203,
     "metadata": {},
     "output_type": "execute_result"
    }
   ],
   "source": [
    "eigen_vec_2var.shape"
   ]
  },
  {
   "cell_type": "code",
   "execution_count": 204,
   "metadata": {
    "collapsed": false
   },
   "outputs": [],
   "source": [
    "output_2var_projection = eigen_vec_2var.dot(input_2var_center.T)"
   ]
  },
  {
   "cell_type": "code",
   "execution_count": 245,
   "metadata": {
    "collapsed": false
   },
   "outputs": [
    {
     "data": {
      "image/png": "[encoded data removed]",
      "text/plain": [
       "<matplotlib.figure.Figure at 0x114e43be0>"
      ]
     },
     "metadata": {},
     "output_type": "display_data"
    }
   ],
   "source": [
    "plot2var_eigen(output_2var_projection.T, 'x' ,'y')"
   ]
  },
  {
   "cell_type": "code",
   "execution_count": null,
   "metadata": {
    "collapsed": true
   },
   "outputs": [],
   "source": []
  },
  {
   "cell_type": "markdown",
   "metadata": {},
   "source": [
    "## Exercise  - No Centering"
   ]
  },
  {
   "cell_type": "markdown",
   "metadata": {},
   "source": [
    "Re-run the PCA analysis on the same dataset without centering"
   ]
  },
  {
   "cell_type": "code",
   "execution_count": null,
   "metadata": {
    "collapsed": true
   },
   "outputs": [],
   "source": []
  },
  {
   "cell_type": "code",
   "execution_count": null,
   "metadata": {
    "collapsed": true
   },
   "outputs": [],
   "source": []
  },
  {
   "cell_type": "markdown",
   "metadata": {},
   "source": [
    "## Exercise - Iris Dataset (4 Dimensions)\n",
    "\n",
    "Run PCA with 2 dimensions on the iris dataset from the sklearn"
   ]
  },
  {
   "cell_type": "code",
   "execution_count": 224,
   "metadata": {
    "collapsed": true
   },
   "outputs": [],
   "source": [
    "from sklearn import datasets"
   ]
  },
  {
   "cell_type": "code",
   "execution_count": 225,
   "metadata": {
    "collapsed": false
   },
   "outputs": [],
   "source": [
    "iris = datasets.load_iris()"
   ]
  },
  {
   "cell_type": "code",
   "execution_count": 226,
   "metadata": {
    "collapsed": false
   },
   "outputs": [],
   "source": [
    "X = iris.data"
   ]
  },
  {
   "cell_type": "code",
   "execution_count": null,
   "metadata": {
    "collapsed": true
   },
   "outputs": [],
   "source": []
  },
  {
   "cell_type": "code",
   "execution_count": null,
   "metadata": {
    "collapsed": true
   },
   "outputs": [],
   "source": []
  },
  {
   "cell_type": "markdown",
   "metadata": {},
   "source": [
    "How do you select which 2 axis to choose?"
   ]
  },
  {
   "cell_type": "code",
   "execution_count": null,
   "metadata": {
    "collapsed": true
   },
   "outputs": [],
   "source": []
  },
  {
   "cell_type": "code",
   "execution_count": null,
   "metadata": {
    "collapsed": true
   },
   "outputs": [],
   "source": []
  },
  {
   "cell_type": "code",
   "execution_count": null,
   "metadata": {
    "collapsed": true
   },
   "outputs": [],
   "source": []
  },
  {
   "cell_type": "markdown",
   "metadata": {},
   "source": [
    "## PCA using sklearn"
   ]
  },
  {
   "cell_type": "code",
   "execution_count": 227,
   "metadata": {
    "collapsed": true
   },
   "outputs": [],
   "source": [
    "from sklearn.decomposition import PCA"
   ]
  },
  {
   "cell_type": "code",
   "execution_count": 228,
   "metadata": {
    "collapsed": true
   },
   "outputs": [],
   "source": [
    "pca = PCA(n_components=2)"
   ]
  },
  {
   "cell_type": "code",
   "execution_count": 229,
   "metadata": {
    "collapsed": false
   },
   "outputs": [
    {
     "data": {
      "text/plain": [
       "PCA(copy=True, n_components=2, whiten=False)"
      ]
     },
     "execution_count": 229,
     "metadata": {},
     "output_type": "execute_result"
    }
   ],
   "source": [
    "pca.fit(input_2var_center)"
   ]
  },
  {
   "cell_type": "code",
   "execution_count": 230,
   "metadata": {
    "collapsed": true
   },
   "outputs": [],
   "source": [
    "output_2var = pca.transform(input_2var_center)"
   ]
  },
  {
   "cell_type": "code",
   "execution_count": 231,
   "metadata": {
    "collapsed": false
   },
   "outputs": [
    {
     "data": {
      "image/png": "[encoded data removed]",
      "text/plain": [
       "<matplotlib.figure.Figure at 0x113950a58>"
      ]
     },
     "metadata": {},
     "output_type": "display_data"
    }
   ],
   "source": [
    "plot2var_center(output_2var, 'pca1', 'pca2')"
   ]
  },
  {
   "cell_type": "code",
   "execution_count": null,
   "metadata": {
    "collapsed": true
   },
   "outputs": [],
   "source": []
  }
 ],
 "metadata": {
  "kernelspec": {
   "display_name": "Python 3",
   "language": "python",
   "name": "python3"
  },
  "language_info": {
   "codemirror_mode": {
    "name": "ipython",
    "version": 3
   },
   "file_extension": ".py",
   "mimetype": "text/x-python",
   "name": "python",
   "nbconvert_exporter": "python",
   "pygments_lexer": "ipython3",
   "version": "3.5.2"
  }
 },
 "nbformat": 4,
 "nbformat_minor": 0
}
