{
 "cells": [
  {
   "cell_type": "code",
   "execution_count": 1,
   "metadata": {
    "collapsed": true
   },
   "outputs": [],
   "source": [
    "import numpy as np\n",
    "import pandas as pd\n",
    "from patsy import dmatrices"
   ]
  },
  {
   "cell_type": "code",
   "execution_count": 2,
   "metadata": {
    "collapsed": true
   },
   "outputs": [],
   "source": [
    "sample = pd.read_csv('cars_sample.csv')"
   ]
  },
  {
   "cell_type": "code",
   "execution_count": 3,
   "metadata": {
    "collapsed": true
   },
   "outputs": [],
   "source": [
    "b, A = dmatrices('price ~ kmpl', sample)"
   ]
  },
  {
   "cell_type": "code",
   "execution_count": 4,
   "metadata": {
    "collapsed": false
   },
   "outputs": [
    {
     "data": {
      "text/plain": [
       "array([[  1. ,   1. ,   1. ,   1. ,   1. ,   1. ,   1. ],\n",
       "       [ 23.9,  22.7,  21.1,  20.5,  19.8,  20.4,  18.6]])"
      ]
     },
     "execution_count": 4,
     "metadata": {},
     "output_type": "execute_result"
    }
   ],
   "source": [
    "A.T"
   ]
  },
  {
   "cell_type": "code",
   "execution_count": 5,
   "metadata": {
    "collapsed": true
   },
   "outputs": [],
   "source": [
    "alpha = 1"
   ]
  },
  {
   "cell_type": "code",
   "execution_count": 6,
   "metadata": {
    "collapsed": false
   },
   "outputs": [],
   "source": [
    "w = np.linalg.inv(A.T.dot(A) + alpha * np.identity(2)).dot(A.T.dot(b))"
   ]
  },
  {
   "cell_type": "code",
   "execution_count": 7,
   "metadata": {
    "collapsed": false
   },
   "outputs": [
    {
     "data": {
      "text/plain": [
       "array([[ 69.28410448],\n",
       "       [ 13.33828003]])"
      ]
     },
     "execution_count": 7,
     "metadata": {},
     "output_type": "execute_result"
    }
   ],
   "source": [
    "w"
   ]
  },
  {
   "cell_type": "code",
   "execution_count": 8,
   "metadata": {
    "collapsed": true
   },
   "outputs": [],
   "source": [
    "from sklearn import linear_model"
   ]
  },
  {
   "cell_type": "code",
   "execution_count": 9,
   "metadata": {
    "collapsed": true
   },
   "outputs": [],
   "source": [
    "model = linear_model.Ridge(alpha = alpha, solver='sparse_cg')"
   ]
  },
  {
   "cell_type": "code",
   "execution_count": 10,
   "metadata": {
    "collapsed": false
   },
   "outputs": [
    {
     "data": {
      "text/plain": [
       "Ridge(alpha=1, copy_X=True, fit_intercept=True, max_iter=None,\n",
       "   normalize=False, random_state=None, solver='sparse_cg', tol=0.001)"
      ]
     },
     "execution_count": 10,
     "metadata": {},
     "output_type": "execute_result"
    }
   ],
   "source": [
    "model.fit(A,b)"
   ]
  },
  {
   "cell_type": "code",
   "execution_count": 11,
   "metadata": {
    "collapsed": false
   },
   "outputs": [
    {
     "data": {
      "text/plain": [
       "(array([ 1597.78472025]), array([[  0.        , -58.97614314]]))"
      ]
     },
     "execution_count": 11,
     "metadata": {},
     "output_type": "execute_result"
    }
   ],
   "source": [
    "model.intercept_, model.coef_"
   ]
  },
  {
   "cell_type": "markdown",
   "metadata": {},
   "source": [
    "## Stack Overflow Example"
   ]
  },
  {
   "cell_type": "code",
   "execution_count": 16,
   "metadata": {
    "collapsed": false
   },
   "outputs": [
    {
     "data": {
      "text/plain": [
       "matrix([[ 1.        ,  0.86112625,  0.07379948,  0.4841837 ],\n",
       "        [ 1.        ,  0.57022554,  0.46957676,  0.45523825],\n",
       "        [ 1.        ,  0.31258441,  0.96056803,  0.53008617],\n",
       "        [ 1.        ,  0.9971415 ,  0.42172553,  0.65900365],\n",
       "        [ 1.        ,  0.43475035,  0.56432374,  0.49589803],\n",
       "        [ 1.        ,  0.83465673,  0.28714608,  0.95267334],\n",
       "        [ 1.        ,  0.48739427,  0.5611719 ,  0.84945195],\n",
       "        [ 1.        ,  0.67890226,  0.74399335,  0.90611506],\n",
       "        [ 1.        ,  0.98813129,  0.61201237,  0.23944107],\n",
       "        [ 1.        ,  0.96088537,  0.94333806,  0.51799764]])"
      ]
     },
     "execution_count": 16,
     "metadata": {},
     "output_type": "execute_result"
    }
   ],
   "source": [
    "A = np.asmatrix(np.c_[np.ones((10,1)),np.random.rand(10,3)])\n",
    "A"
   ]
  },
  {
   "cell_type": "code",
   "execution_count": 17,
   "metadata": {
    "collapsed": false
   },
   "outputs": [
    {
     "data": {
      "text/plain": [
       "matrix([[ 0.35300713],\n",
       "        [ 0.04398586],\n",
       "        [ 0.067771  ],\n",
       "        [ 0.79757816],\n",
       "        [ 0.09767994],\n",
       "        [ 0.56149166],\n",
       "        [ 0.08463164],\n",
       "        [ 0.01429912],\n",
       "        [ 0.26151765],\n",
       "        [ 0.24756318]])"
      ]
     },
     "execution_count": 17,
     "metadata": {},
     "output_type": "execute_result"
    }
   ],
   "source": [
    "b = np.asmatrix(np.random.rand(10,1))\n",
    "b"
   ]
  },
  {
   "cell_type": "code",
   "execution_count": 18,
   "metadata": {
    "collapsed": false
   },
   "outputs": [
    {
     "data": {
      "text/plain": [
       "array([[ 1.,  0.,  0.,  0.],\n",
       "       [ 0.,  1.,  0.,  0.],\n",
       "       [ 0.,  0.,  1.,  0.],\n",
       "       [ 0.,  0.,  0.,  1.]])"
      ]
     },
     "execution_count": 18,
     "metadata": {},
     "output_type": "execute_result"
    }
   ],
   "source": [
    "I = np.identity(A.shape[1])\n",
    "I"
   ]
  },
  {
   "cell_type": "code",
   "execution_count": 19,
   "metadata": {
    "collapsed": true
   },
   "outputs": [],
   "source": [
    "alpha = 1"
   ]
  },
  {
   "cell_type": "code",
   "execution_count": 20,
   "metadata": {
    "collapsed": false
   },
   "outputs": [],
   "source": [
    "x = np.linalg.inv(A.T*A + alpha * I)*A.T*b"
   ]
  },
  {
   "cell_type": "code",
   "execution_count": 21,
   "metadata": {
    "collapsed": false
   },
   "outputs": [
    {
     "name": "stdout",
     "output_type": "stream",
     "text": [
      "[[ 0.06926044  0.27620786 -0.12684255  0.08449034]]\n"
     ]
    }
   ],
   "source": [
    "print(x.T)"
   ]
  },
  {
   "cell_type": "code",
   "execution_count": 22,
   "metadata": {
    "collapsed": false
   },
   "outputs": [
    {
     "data": {
      "text/plain": [
       "matrix([[ 0.86112625,  0.07379948,  0.4841837 ],\n",
       "        [ 0.57022554,  0.46957676,  0.45523825],\n",
       "        [ 0.31258441,  0.96056803,  0.53008617],\n",
       "        [ 0.9971415 ,  0.42172553,  0.65900365],\n",
       "        [ 0.43475035,  0.56432374,  0.49589803],\n",
       "        [ 0.83465673,  0.28714608,  0.95267334],\n",
       "        [ 0.48739427,  0.5611719 ,  0.84945195],\n",
       "        [ 0.67890226,  0.74399335,  0.90611506],\n",
       "        [ 0.98813129,  0.61201237,  0.23944107],\n",
       "        [ 0.96088537,  0.94333806,  0.51799764]])"
      ]
     },
     "execution_count": 22,
     "metadata": {},
     "output_type": "execute_result"
    }
   ],
   "source": [
    "A[:,1:]"
   ]
  },
  {
   "cell_type": "code",
   "execution_count": 23,
   "metadata": {
    "collapsed": true
   },
   "outputs": [],
   "source": [
    "from sklearn.linear_model import Ridge"
   ]
  },
  {
   "cell_type": "code",
   "execution_count": 24,
   "metadata": {
    "collapsed": true
   },
   "outputs": [],
   "source": [
    "model = Ridge(alpha = alpha).fit(A[:,1:],b)"
   ]
  },
  {
   "cell_type": "code",
   "execution_count": 25,
   "metadata": {
    "collapsed": false
   },
   "outputs": [
    {
     "name": "stdout",
     "output_type": "stream",
     "text": [
      "[[ 0.13722463  0.23988626 -0.15524047  0.0530518 ]]\n"
     ]
    }
   ],
   "source": [
    "print(np.c_[model.intercept_, model.coef_])"
   ]
  },
  {
   "cell_type": "markdown",
   "metadata": {},
   "source": [
    "# Minimum Example"
   ]
  },
  {
   "cell_type": "code",
   "execution_count": 26,
   "metadata": {
    "collapsed": false
   },
   "outputs": [
    {
     "name": "stdout",
     "output_type": "stream",
     "text": [
      "[[ 0.41168378  0.03447257  0.01885912 -0.08922888]]\n",
      "[[ 0.67251605 -0.0961706  -0.10608818 -0.23403498]]\n"
     ]
    }
   ],
   "source": [
    "A = np.asmatrix(np.c_[np.ones((10,1)),np.random.rand(10,3)])\n",
    "b = np.asmatrix(np.random.rand(10,1))\n",
    "I = np.identity(A.shape[1])\n",
    "alpha = 1\n",
    "x = np.linalg.inv(A.T*A + alpha * I)*A.T*b\n",
    "print(x.T)\n",
    "\n",
    "from sklearn.linear_model import Ridge\n",
    "model = Ridge(alpha = alpha).fit(A[:,1:],b)\n",
    "print(np.c_[model.intercept_, model.coef_])"
   ]
  },
  {
   "cell_type": "code",
   "execution_count": 27,
   "metadata": {
    "collapsed": false
   },
   "outputs": [
    {
     "name": "stdout",
     "output_type": "stream",
     "text": [
      "[[ 0.19224181  0.1406116   0.12169723]]\n",
      "[[ 0.19224181  0.1406116   0.12169723]]\n",
      "0.0\n"
     ]
    }
   ],
   "source": [
    "import numpy as np\n",
    "A = np.asmatrix(np.random.rand(10,3))\n",
    "b = np.asmatrix(np.random.rand(10,1))\n",
    "I = np.identity(A.shape[1])\n",
    "alpha = 10\n",
    "x = np.linalg.inv(A.T*A + alpha * I)*A.T*b\n",
    "print (x.T)\n",
    "\n",
    "\n",
    "from sklearn.linear_model import Ridge\n",
    "model = Ridge(alpha = alpha, tol=0.1, fit_intercept=False, normalize = True, solver =\"cholesky\").fit(A ,b)\n",
    "\n",
    "print (model.coef_)\n",
    "print (model.intercept_)"
   ]
  },
  {
   "cell_type": "code",
   "execution_count": 28,
   "metadata": {
    "collapsed": false
   },
   "outputs": [
    {
     "name": "stdout",
     "output_type": "stream",
     "text": [
      "[[ 0.18579158  0.14026348 -0.14583981  0.23312887]]\n",
      "[[ 0.          0.18579158  0.14026348 -0.14583981  0.23312887]]\n"
     ]
    }
   ],
   "source": [
    "A = np.asmatrix(np.c_[np.ones((10,1)),np.random.rand(10,3)])\n",
    "b = np.asmatrix(np.random.rand(10,1))\n",
    "I = np.identity(A.shape[1])\n",
    "alpha = 1\n",
    "x = np.linalg.inv(A.T*A + alpha * I)*A.T*b\n",
    "print(x.T)\n",
    "\n",
    "from sklearn.linear_model import Ridge\n",
    "model = Ridge(alpha = alpha, fit_intercept = False, solver = \"cholesky\").fit(A,b)\n",
    "print(np.c_[model.intercept_, model.coef_])"
   ]
  },
  {
   "cell_type": "markdown",
   "metadata": {
    "collapsed": true
   },
   "source": [
    "## PCA"
   ]
  },
  {
   "cell_type": "code",
   "execution_count": 29,
   "metadata": {
    "collapsed": true
   },
   "outputs": [],
   "source": [
    "import numpy as np\n",
    "import matplotlib.pyplot as plt\n",
    "from sklearn.decomposition import PCA"
   ]
  },
  {
   "cell_type": "code",
   "execution_count": 30,
   "metadata": {
    "collapsed": true
   },
   "outputs": [],
   "source": [
    "%matplotlib inline"
   ]
  },
  {
   "cell_type": "code",
   "execution_count": 31,
   "metadata": {
    "collapsed": false
   },
   "outputs": [
    {
     "name": "stdout",
     "output_type": "stream",
     "text": [
      "cov mat: [[ 1.66666667 -0.25      ]\n",
      " [-0.25        0.0625    ]]\n",
      "SVD eigen vals: [ 1.70472479  0.02444187]\n",
      "SVD eigen vec[0]: [ 0.98861022  0.15049861]\n",
      "SVD eigen vec[1]: [-0.15049861  0.98861022]\n",
      "PCA eigen vals: [ 0.98586494  0.01413506]\n",
      "PCA eigen vec[0]: [ 0.98861022 -0.15049861]\n",
      "PCA eigen vec[1]: [-0.15049861 -0.98861022]\n"
     ]
    },
    {
     "data": {
      "image/png": "[encoded data removed]",
      "text/plain": [
       "<matplotlib.figure.Figure at 0x10acb8940>"
      ]
     },
     "metadata": {},
     "output_type": "display_data"
    },
    {
     "data": {
      "image/png": "[encoded data removed]",
      "text/plain": [
       "<matplotlib.figure.Figure at 0x110d81cc0>"
      ]
     },
     "metadata": {},
     "output_type": "display_data"
    }
   ],
   "source": [
    "\n",
    "\n",
    "# X = np.array([\n",
    "#   [  -2.500000000000001,   -1.873333333333334],\n",
    "#   [  0.2333333333333325, 0.026666666666666394],\n",
    "#   [  0.8666666666666663,   0.8266666666666662],\n",
    "#   [ -1.7000000000000006,  -1.1733333333333338],\n",
    "#   [  3.1000000000000005,   2.1933333333333334]\n",
    "# ])\n",
    "\n",
    "# X = np.array([ [0, 0], [1, 1], [2, 2], [3, 3] ])\n",
    "\n",
    "X = np.array([ [0, 1], [1, 1], [2, 1], [3, 0.5] ])\n",
    "\n",
    "# normalize by mean.\n",
    "X = np.subtract(X, np.mean(X, axis=0))\n",
    "\n",
    "cov_mat = np.cov(X.T)\n",
    "print (\"cov mat:\", cov_mat)\n",
    "svd_val, svd_vec = np.linalg.eig(cov_mat)\n",
    "\n",
    "print (\"SVD eigen vals:\", svd_val)\n",
    "print (\"SVD eigen vec[0]:\", svd_vec[0])\n",
    "print (\"SVD eigen vec[1]:\", svd_vec[1])\n",
    "\n",
    "\n",
    "pca = PCA(n_components=2)\n",
    "pca.fit(X)\n",
    "\n",
    "# print \"explained variance \"\n",
    "# print pca.explained_variance_ratio_\n",
    "\n",
    "# PCA eigen vectors\n",
    "pca_vec = pca.components_\n",
    "\n",
    "print (\"PCA eigen vals:\", pca.explained_variance_ratio_)\n",
    "print (\"PCA eigen vec[0]:\", pca_vec[0])\n",
    "print (\"PCA eigen vec[1]:\", pca_vec[1])\n",
    "\n",
    "\n",
    "def plot(eig_vec):\n",
    "  plt.plot(X[:,0], X[:,1], 'ro')\n",
    "  plt.plot([0], [0], 'bo')\n",
    "\n",
    "  plt.quiver(eig_vec[0, 0], eig_vec[0, 1], angles='xy', scale_units='xy', scale=1, color='blue')\n",
    "  plt.quiver(eig_vec[1, 0], eig_vec[1, 1], angles='xy', scale_units='xy', scale=1, color='green')\n",
    "\n",
    "  plt.xlim([-4,4])\n",
    "  plt.ylim([-4,4])\n",
    "\n",
    "  plt.aspect = 'equal'\n",
    "\n",
    "fig = plt.figure(1)\n",
    "plot(svd_vec)\n",
    "fig = plt.figure(2)\n",
    "plot(pca_vec)\n",
    "plt.show()"
   ]
  },
  {
   "cell_type": "code",
   "execution_count": null,
   "metadata": {
    "collapsed": true
   },
   "outputs": [],
   "source": []
  }
 ],
 "metadata": {
  "kernelspec": {
   "display_name": "Python 3",
   "language": "python",
   "name": "python3"
  },
  "language_info": {
   "codemirror_mode": {
    "name": "ipython",
    "version": 3
   },
   "file_extension": ".py",
   "mimetype": "text/x-python",
   "name": "python",
   "nbconvert_exporter": "python",
   "pygments_lexer": "ipython3",
   "version": "3.5.2"
  }
 },
 "nbformat": 4,
 "nbformat_minor": 0
}
