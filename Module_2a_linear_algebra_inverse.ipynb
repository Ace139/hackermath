{
 "cells": [
  {
   "cell_type": "markdown",
   "metadata": {},
   "source": [
    "# Intro to Linear Algebra - Inverse\n",
    "\n",
    "### Key Equation: $Ax =b ~~ \\text{for} ~~ n \\times n $\n",
    "\n",
    "The starting linear algebra problem is solving - `n` linear equation, with `n` unknowns\n",
    "\n",
    "# 2 x 2 Equation\n",
    "\n",
    "Let us start with the most simple one - 2 linear equations, with 2 unknown.\n",
    "\n",
    "$$ x + 3y = 15 $$\n",
    "$$ 2x - y = 2 $$\n",
    "\n",
    "\n",
    "## Algebaric (2 x 2)\n",
    "\n",
    "Now it is easy to solve the equation and get the answer.\n",
    "\n",
    "$$ x + 3y = 15 ~~~~ \\space (eq1)$$\n",
    "$$ 2x - y = 2 ~~~~ \\space (eq2)$$\n",
    "\n",
    "### E<sub>1</sub> elimination \n",
    "We keep the first equation as it is and we elminate `x` from the second equation. \n",
    "\n",
    "To do that we multiply the first equation by 2 and subtract from the first equation i.e. $eq2 - 2* eq1$ \n",
    "\n",
    "$$ x + 3y = 15  ~~~~ \\space (eq1) $$ \n",
    "$$  -7y = -28  ~~~~ \\space (eq3)$$\n",
    "\n",
    "### E<sub>2</sub> elimination\n",
    "Now we do back elimination and we eliminate `y` from the first equation \n",
    "\n",
    "We  divide the the third equation by -7 i.e. $eq3 / -7 $ And we multiply the third equation by 3/7 and add it to the first equation i.e. $eq3 * 3 /7 + eq1$. \n",
    "\n",
    "$$ x = 3  ~~~~ \\space (eq4) $$ \n",
    "$$  y = 4  ~~~~ \\space (eq5)$$\n",
    "\n",
    "And there is our answer.\n",
    "\n",
    "This is a simplified representation of the *Gauss-Jordan Elimination*"
   ]
  },
  {
   "cell_type": "markdown",
   "metadata": {},
   "source": [
    "## Row-wise / Lines (2 x 2)\n",
    "Let us solve this the traditional way by thinking of them as row wise and solving it. We can plot each of these queations and see where they intersect.\n",
    "\n",
    "$$ x + 3y = 15 ~~~~ \\textit{(row 1) }$$\n",
    "$$ 2x - y = 2  ~~~~ \\textit{(row 2) }$$"
   ]
  },
  {
   "cell_type": "code",
   "execution_count": 1,
   "metadata": {
    "collapsed": true
   },
   "outputs": [],
   "source": [
    "import numpy as np"
   ]
  },
  {
   "cell_type": "code",
   "execution_count": 2,
   "metadata": {
    "collapsed": false
   },
   "outputs": [],
   "source": [
    "import matplotlib.pyplot as plt\n",
    "%matplotlib inline\n",
    "plt.style.use('fivethirtyeight')\n",
    "plt.rcParams['figure.figsize'] = (10, 6)"
   ]
  },
  {
   "cell_type": "code",
   "execution_count": 3,
   "metadata": {
    "collapsed": false
   },
   "outputs": [
    {
     "data": {
      "text/plain": [
       "<matplotlib.text.Text at 0x10d49c358>"
      ]
     },
     "execution_count": 3,
     "metadata": {},
     "output_type": "execute_result"
    },
    {
     "data": {
      "image/png": "[encoded data removed]",
      "text/plain": [
       "<matplotlib.figure.Figure at 0x10d479e10>"
      ]
     },
     "metadata": {},
     "output_type": "display_data"
    }
   ],
   "source": [
    "x = np.arange(-10, 10, 1)\n",
    "\n",
    "y1 = (15 - x)/3\n",
    "y2 = (2 - 2*x)/-1\n",
    "\n",
    "plt.plot(x, y1)\n",
    "plt.text(x[-1], y1[-1], 'row1')\n",
    "\n",
    "plt.plot(x, y2)\n",
    "plt.text(x[-1], y2[-1], 'row2')\n",
    "\n",
    "plt.axhline(0, color='grey', linewidth=1)\n",
    "plt.axvline(0, color='grey', linewidth=1)\n",
    "\n",
    "plt.xlabel('x')\n",
    "plt.ylabel('y')"
   ]
  },
  {
   "cell_type": "markdown",
   "metadata": {},
   "source": [
    "## Column-wise  / Vectors (2x2)\n",
    "\n",
    "We can also solve this equation in a vector way, by thinking of this as linear combination of two vectors\n",
    "\n",
    "$$ \\begin{bmatrix}1 \\\\ 2\\end{bmatrix} x + \\begin{bmatrix}3 \\\\ -1\\end{bmatrix} y = \\begin{bmatrix}15 \\\\ 2\\end{bmatrix} $$\n",
    "\n",
    "Now we need to draw these vectors and see the result"
   ]
  },
  {
   "cell_type": "code",
   "execution_count": 4,
   "metadata": {
    "collapsed": false
   },
   "outputs": [],
   "source": [
    "# All the vectors start at 0, 0 \n",
    "vX1 = np.array([0,0,1,2])\n",
    "vY1 = np.array([0,0,3,-1])\n",
    "b = np.array([0,0,15,2])"
   ]
  },
  {
   "cell_type": "code",
   "execution_count": 5,
   "metadata": {
    "collapsed": false
   },
   "outputs": [],
   "source": [
    "vector1 = [vX1, vY1, b]"
   ]
  },
  {
   "cell_type": "code",
   "execution_count": 6,
   "metadata": {
    "collapsed": false
   },
   "outputs": [],
   "source": [
    "def vector_plot (vector):\n",
    "    X,Y,U,V = zip(*vector)\n",
    "    C = [1,2,3]\n",
    "    plt.figure()\n",
    "    ax = plt.gca()\n",
    "    ax.quiver(X,Y,U,V,C, angles='xy',scale_units='xy',scale=1)\n",
    "    ax.set_xlim([-15,15])\n",
    "    ax.set_ylim([-9,9])\n",
    "    plt.axhline(0, color='grey', linewidth=1)\n",
    "    plt.axvline(0, color='grey', linewidth=1)\n",
    "    plt.axes().set_aspect('equal')\n",
    "    plt.draw()"
   ]
  },
  {
   "cell_type": "code",
   "execution_count": 7,
   "metadata": {
    "collapsed": false
   },
   "outputs": [
    {
     "data": {
      "image/png": "[encoded data removed]",
      "text/plain": [
       "<matplotlib.figure.Figure at 0x10feff4e0>"
      ]
     },
     "metadata": {},
     "output_type": "display_data"
    }
   ],
   "source": [
    "vector_plot(vector1)"
   ]
  },
  {
   "cell_type": "markdown",
   "metadata": {},
   "source": [
    "Now we know the answer to this is a linear combination of the two vectors. So we multiply the first vector by 3 and the second vector by 4 and add the two"
   ]
  },
  {
   "cell_type": "code",
   "execution_count": 8,
   "metadata": {
    "collapsed": true
   },
   "outputs": [],
   "source": [
    "# VX1 vectors start at (0, 0), while VY2 starts at the end of VX1\n",
    "vX2 = np.array([0,0,3,6])\n",
    "vY2 = np.array([3,6,12,-4])\n",
    "b = np.array([0,0,15,2])"
   ]
  },
  {
   "cell_type": "code",
   "execution_count": 9,
   "metadata": {
    "collapsed": false
   },
   "outputs": [],
   "source": [
    "vector2 = [vX2, vY2, b]"
   ]
  },
  {
   "cell_type": "code",
   "execution_count": 10,
   "metadata": {
    "collapsed": false
   },
   "outputs": [
    {
     "data": {
      "image/png": "[encoded data removed]",
      "text/plain": [
       "<matplotlib.figure.Figure at 0x110075c50>"
      ]
     },
     "metadata": {},
     "output_type": "display_data"
    }
   ],
   "source": [
    "vector_plot(vector2)"
   ]
  },
  {
   "cell_type": "markdown",
   "metadata": {},
   "source": [
    "## Matrix Way (2 x 2) - Using Elimination\n",
    "\n",
    "Now our 2 variable, 2 equation problem is:\n",
    "\n",
    "$$ x + 3y = 15 ~~~~ \\space (eq1)$$\n",
    "$$ 2x - y = 2 ~~~~ \\space (eq2)$$\n",
    "\n",
    "We can write this in a matrix way as:\n",
    "\n",
    "$$ \\begin{bmatrix}1x & 3y\\\\ 2x & -1y\\end{bmatrix} = \\begin{bmatrix}15 \\\\ 2\\end{bmatrix} $$\n",
    "\n",
    "However, to generalize it is better to write it in the form:\n",
    "\n",
    "$$ Ax = b $$\n",
    "\n",
    "$$ \\begin{bmatrix}1 & 3\\\\ 2 & -1\\end{bmatrix} \\begin{bmatrix}x \\\\ y\\end{bmatrix} = \\begin{bmatrix}15 \\\\ 2\\end{bmatrix} $$\n",
    "\n"
   ]
  },
  {
   "cell_type": "markdown",
   "metadata": {
    "collapsed": true
   },
   "source": [
    "Now we can solve this using elimination as we did earlier in the algebraic formulation\n",
    "\n",
    "### E<sub>1</sub> elimination\n",
    "To remove `x` from the second equation matrix, we write our first slimination matrix\n",
    "\n",
    "$$ E_{1} = \\begin{bmatrix}1 & 0\\\\ -2 & 1\\end{bmatrix} $$\n",
    "\n",
    "So, we multiply $E_{1}$ to both sides.\n",
    "\n",
    "$$ E_{1}Ax = E_{1}b $$\n",
    "\n",
    "So our new equation is now:\n",
    "\n",
    "$$ \\begin{bmatrix}1 & 0\\\\ -2 & 1\\end{bmatrix} \\begin{bmatrix}1 & 3\\\\ 2 & -1\\end{bmatrix} \\begin{bmatrix}x \\\\ y\\end{bmatrix} = \\begin{bmatrix}1 & 0\\\\ -2 & 1\\end{bmatrix} \\begin{bmatrix}15 \\\\ 2\\end{bmatrix} $$\n",
    "\n",
    "This can be reduced by matrix-multiplication to:\n",
    "\n",
    "$$ \\begin{bmatrix}1 & 3\\\\ 0 & -7\\end{bmatrix} \\begin{bmatrix}x \\\\ y\\end{bmatrix} = \\begin{bmatrix}15 \\\\ -28\\end{bmatrix} $$\n",
    "\n",
    "which is now same as what we got after E1 elimination in algebraic formulation\n",
    "\n",
    "$$ x + 3y = 15  ~~~~ \\space (eq1) $$ \n",
    "$$  -7y = -28  ~~~~ \\space (eq3)$$"
   ]
  },
  {
   "cell_type": "markdown",
   "metadata": {},
   "source": [
    "### E<sub>2</sub> elimination\n",
    "To remove `y` from the first equation matrix, we write our second slimination matrix\n",
    "\n",
    "$$ E_{2} = \\begin{bmatrix}1 & 3/7\\\\ 0 & -1/7\\end{bmatrix} $$\n",
    "\n",
    "So, we multiply $E_{2}$ to both sides.\n",
    "\n",
    "$$ E_{2}E_{1}Ax = E_{2}E_{1}b $$\n",
    "\n",
    "So our new equation is now:\n",
    "\n",
    "$$ \\begin{bmatrix}1 & 3/7\\\\ 0 & -1/7\\end{bmatrix} \\begin{bmatrix}1 & 3\\\\ 0 & -7\\end{bmatrix} \\begin{bmatrix}x \\\\ y\\end{bmatrix} = \\begin{bmatrix}1 & 3/7\\\\ 0 & -1/7\\end{bmatrix} \\begin{bmatrix}15 \\\\ -28\\end{bmatrix} $$\n",
    "\n",
    "This can be reduced by matrix-multiplication to:\n",
    "\n",
    "\n",
    "$$ \\begin{bmatrix}1 & 0\\\\ 0 & 1\\end{bmatrix} \\begin{bmatrix}x \\\\ y\\end{bmatrix} = \\begin{bmatrix}3 \\\\ 4\\end{bmatrix} $$\n",
    "\n",
    "Which is our answer \n",
    "$$ x = 3  ~~~~ \\space (eq4) $$ \n",
    "$$  y = 4  ~~~~ \\space (eq5)$$\n"
   ]
  },
  {
   "cell_type": "code",
   "execution_count": 11,
   "metadata": {
    "collapsed": false
   },
   "outputs": [],
   "source": [
    "from fractions import Fraction\n",
    "A = np.matrix([[1,3],\n",
    "               [2,-1]])\n",
    "\n",
    "b = np.matrix([[15],\n",
    "               [2]])\n",
    "\n",
    "E1 = np.matrix([[1,0],\n",
    "                [-2,1]])\n",
    "\n",
    "E2 = np.matrix([[Fraction (1,1),Fraction(3, 7)],\n",
    "                [Fraction(0,1),Fraction(-1, 7)]])"
   ]
  },
  {
   "cell_type": "code",
   "execution_count": 12,
   "metadata": {
    "collapsed": false
   },
   "outputs": [
    {
     "data": {
      "text/plain": [
       "matrix([[ 1,  3],\n",
       "        [ 2, -1]])"
      ]
     },
     "execution_count": 12,
     "metadata": {},
     "output_type": "execute_result"
    }
   ],
   "source": [
    "A"
   ]
  },
  {
   "cell_type": "code",
   "execution_count": 13,
   "metadata": {
    "collapsed": false
   },
   "outputs": [
    {
     "data": {
      "text/plain": [
       "matrix([[ 1,  0],\n",
       "        [-2,  1]])"
      ]
     },
     "execution_count": 13,
     "metadata": {},
     "output_type": "execute_result"
    }
   ],
   "source": [
    "E1"
   ]
  },
  {
   "cell_type": "code",
   "execution_count": 14,
   "metadata": {
    "collapsed": false
   },
   "outputs": [
    {
     "data": {
      "text/plain": [
       "matrix([[ 1,  3],\n",
       "        [ 0, -7]])"
      ]
     },
     "execution_count": 14,
     "metadata": {},
     "output_type": "execute_result"
    }
   ],
   "source": [
    "E1*A"
   ]
  },
  {
   "cell_type": "code",
   "execution_count": 15,
   "metadata": {
    "collapsed": false
   },
   "outputs": [
    {
     "data": {
      "text/plain": [
       "matrix([[Fraction(1, 1), Fraction(0, 1)],\n",
       "        [Fraction(0, 1), Fraction(1, 1)]], dtype=object)"
      ]
     },
     "execution_count": 15,
     "metadata": {},
     "output_type": "execute_result"
    }
   ],
   "source": [
    "E2*E1*A"
   ]
  },
  {
   "cell_type": "code",
   "execution_count": 16,
   "metadata": {
    "collapsed": false
   },
   "outputs": [
    {
     "data": {
      "text/plain": [
       "matrix([[Fraction(3, 1)],\n",
       "        [Fraction(4, 1)]], dtype=object)"
      ]
     },
     "execution_count": 16,
     "metadata": {},
     "output_type": "execute_result"
    }
   ],
   "source": [
    "E2*E1*b"
   ]
  },
  {
   "cell_type": "markdown",
   "metadata": {},
   "source": [
    "## Matrix Way (2x2) - Using Inverse\n",
    "\n",
    "Now our 2 variable, 2 equation problem is:\n",
    "\n",
    "$$ x + 3y = 15 ~~~~ \\space (eq1)$$\n",
    "$$ 2x - y = 2 ~~~~ \\space (eq2)$$\n",
    "\n",
    "Now we know from the previous working that:\n",
    "\n",
    "$$ E_{2}E_{1}Ax = E_{2}E_{1}b $$\n",
    "\n",
    "and that I can change the brackets in my multiplication:\n",
    "\n",
    "$$ E_{2}(E_{1}A) = (E_{2}E_{1})A $$\n",
    "\n",
    "So I can first compute $E_{2}*E_{1}$ :\n",
    "$$ E_{2}E_{1} =\\begin{bmatrix}1 & 3/7\\\\ 0 & -1/7\\end{bmatrix} \\begin{bmatrix}1 & 0\\\\ -2 & 1\\end{bmatrix} = \\begin{bmatrix}1/7 & 3/7\\\\ 2/7 & -1/7\\end{bmatrix} $$\n",
    "\n",
    "And I know that \n",
    "\n",
    "$$ (E_{2}E_{1})A = I $$\n",
    "\n",
    "$$ \\begin{bmatrix}1/7 & 3/7\\\\ 2/7 & -1/7\\end{bmatrix} \\begin{bmatrix}1 & 3\\\\ 2 & -1\\end{bmatrix} = \\begin{bmatrix}1 & 0\\\\ 0 & 1\\end{bmatrix} $$\n",
    "\n",
    "So now instead of calculating Elimination matrix, we need to just calculate $A^{-1}$ which when multiplied by $A$ gives the identity matrix - $I$\n",
    "\n",
    "$$ A^{-1}A = I $$\n",
    "\n",
    "$$ A^{-1} = \\begin{bmatrix}1/7 & 3/7\\\\ 2/7 & -1/7\\end{bmatrix} $$\n",
    "\n",
    "Hence it follows that\n",
    "\n",
    "$$ A^{-1}Ax = A^{-1}Ab $$\n",
    "\n",
    "$$ Ix = A^{-1}b $$\n",
    "\n",
    "$$ x = A^{-1}b $$\n",
    "\n",
    "\n",
    "So we can calcuate $x$ easily once we know $A^{-1}$\n",
    "\n",
    "$$ \\begin{bmatrix}x \\\\ y\\end{bmatrix} = \\begin{bmatrix}1/7 & 3/7\\\\ 2/7 & -1/7\\end{bmatrix} \\begin{bmatrix}15\\\\ 2\\end{bmatrix}  = \\begin{bmatrix} 3 \\\\ 4 \\end{bmatrix}$$\n",
    "\n",
    "\n",
    "\n",
    "\n",
    "\n",
    "\n",
    "\n",
    "\n",
    "\n",
    "\n"
   ]
  },
  {
   "cell_type": "code",
   "execution_count": 17,
   "metadata": {
    "collapsed": false
   },
   "outputs": [
    {
     "data": {
      "text/plain": [
       "matrix([[Fraction(1, 7), Fraction(3, 7)],\n",
       "        [Fraction(2, 7), Fraction(-1, 7)]], dtype=object)"
      ]
     },
     "execution_count": 17,
     "metadata": {},
     "output_type": "execute_result"
    }
   ],
   "source": [
    "E2*E1"
   ]
  },
  {
   "cell_type": "code",
   "execution_count": 18,
   "metadata": {
    "collapsed": false
   },
   "outputs": [],
   "source": [
    "Ainv = np.linalg.inv(A)"
   ]
  },
  {
   "cell_type": "code",
   "execution_count": 19,
   "metadata": {
    "collapsed": false
   },
   "outputs": [
    {
     "data": {
      "text/plain": [
       "matrix([[ 0.14285714,  0.42857143],\n",
       "        [ 0.28571429, -0.14285714]])"
      ]
     },
     "execution_count": 19,
     "metadata": {},
     "output_type": "execute_result"
    }
   ],
   "source": [
    "Ainv"
   ]
  },
  {
   "cell_type": "code",
   "execution_count": 20,
   "metadata": {
    "collapsed": false
   },
   "outputs": [
    {
     "data": {
      "text/plain": [
       "matrix([[ 3.],\n",
       "        [ 4.]])"
      ]
     },
     "execution_count": 20,
     "metadata": {},
     "output_type": "execute_result"
    }
   ],
   "source": [
    "Ainv * b"
   ]
  },
  {
   "cell_type": "markdown",
   "metadata": {},
   "source": [
    "# 3 x 3 Equation\n",
    "\n",
    "Let take a more involved example - 3 linear equations, with 3 unknown.\n",
    "\n",
    "$$ x + y + z = 3 $$\n",
    "$$ 3x + 8y + z = 12 $$\n",
    "$$ 5x - 4y + 3z = 4 $$"
   ]
  },
  {
   "cell_type": "markdown",
   "metadata": {},
   "source": [
    "## Algebaric (3 x 3)\n",
    "\n",
    "\n",
    "Now it is easy to solve the equation and get the answer\n",
    "\n",
    "$$ x = 1, y = 1, z = 1 $$"
   ]
  },
  {
   "cell_type": "markdown",
   "metadata": {},
   "source": [
    "## Row-wise / Planes (3 x 3)"
   ]
  },
  {
   "cell_type": "code",
   "execution_count": 21,
   "metadata": {
    "collapsed": false
   },
   "outputs": [
    {
     "data": {
      "text/plain": [
       "<matplotlib.text.Text at 0x1103b0358>"
      ]
     },
     "execution_count": 21,
     "metadata": {},
     "output_type": "execute_result"
    },
    {
     "data": {
      "image/png": "[encoded data removed]",
      "text/plain": [
       "<matplotlib.figure.Figure at 0x1100b3ac8>"
      ]
     },
     "metadata": {},
     "output_type": "display_data"
    }
   ],
   "source": [
    "from mpl_toolkits.mplot3d import Axes3D\n",
    "xrange = np.arange(-10, 10, 1)\n",
    "yrange = np.arange(-10, 10, 1)\n",
    "x, y = np.meshgrid(xrange, yrange)\n",
    "\n",
    "z1 = 3 - x - y\n",
    "z2 = 12 - 3*x - 8*y\n",
    "z3 = (2  - 5*x + 4 *y)/(3)\n",
    "\n",
    "plt3d = plt.figure().gca(projection='3d')\n",
    "\n",
    "plt3d.plot_surface(x,y,z1, color='blue', alpha = 0.4)\n",
    "plt3d.plot_surface(x,y,z2, color='red', alpha = 0.4)\n",
    "plt3d.plot_surface(x,y,z3, color='green', alpha = 0.4)\n",
    "\n",
    "plt3d.set_xlabel('x')\n",
    "plt3d.set_ylabel('y')\n",
    "plt3d.set_zlabel('z')"
   ]
  },
  {
   "cell_type": "markdown",
   "metadata": {},
   "source": [
    "## Column-wise  / Vectors (3 x 3)\n",
    "\n",
    "$$ \\begin{bmatrix}1 \\\\ 3 \\\\ 5\\end{bmatrix} x + \\begin{bmatrix}1 \\\\ 8 \\\\ -4\\end{bmatrix} y + \\begin{bmatrix}1 \\\\ 1 \\\\ 3\\end{bmatrix} z = \\begin{bmatrix}3 \\\\ 12 \\\\ 4 \\end{bmatrix} $$\n",
    "\n",
    "Now we need to draw these vectors and see the result"
   ]
  },
  {
   "cell_type": "code",
   "execution_count": 22,
   "metadata": {
    "collapsed": false
   },
   "outputs": [
    {
     "data": {
      "image/png": "[encoded data removed]",
      "text/plain": [
       "<matplotlib.figure.Figure at 0x1100eb7b8>"
      ]
     },
     "metadata": {},
     "output_type": "display_data"
    }
   ],
   "source": [
    "from mpl_toolkits.mplot3d import Axes3D\n",
    "from matplotlib.patches import FancyArrowPatch\n",
    "from mpl_toolkits.mplot3d import proj3d\n",
    "\n",
    "class Arrow3D(FancyArrowPatch):\n",
    "    def __init__(self, xs, ys, zs, *args, **kwargs):\n",
    "        FancyArrowPatch.__init__(self, (0,0), (0,0), *args, **kwargs)\n",
    "        self._verts3d = xs, ys, zs\n",
    "\n",
    "    def draw(self, renderer):\n",
    "        xs3d, ys3d, zs3d = self._verts3d\n",
    "        xs, ys, zs = proj3d.proj_transform(xs3d, ys3d, zs3d, renderer.M)\n",
    "        self.set_positions((xs[0],ys[0]),(xs[1],ys[1]))\n",
    "        FancyArrowPatch.draw(self, renderer)\n",
    "        \n",
    "plt.figure()\n",
    "ax = plt.gca(projection='3d')\n",
    "vX = Arrow3D([0,1],[0,3],[0,5], mutation_scale=20, lw=3, arrowstyle=\"-|>\", color=\"r\")\n",
    "vY = Arrow3D([1,2],[3,11],[5,1],mutation_scale=20, lw=3, arrowstyle=\"-|>\", color=\"c\")\n",
    "vZ = Arrow3D([2,3],[11,12],[1,4], mutation_scale=20, lw=3, arrowstyle=\"-|>\", color=\"g\")\n",
    "b = Arrow3D([0,3],[0,12],[0,4],mutation_scale=20, lw=3, arrowstyle=\"-|>\", color=\"k\")\n",
    "\n",
    "ax.add_artist(vX)\n",
    "ax.add_artist(vY)\n",
    "ax.add_artist(vZ)\n",
    "ax.add_artist(b)\n",
    "\n",
    "ax.set_xlim([0,12])\n",
    "ax.set_ylim([0,12])\n",
    "ax.set_zlim([0,12])\n",
    "plt.draw()"
   ]
  },
  {
   "cell_type": "markdown",
   "metadata": {},
   "source": [
    "## Matrix Way (3 x 3)\n",
    "\n",
    "Let us write it in the form \n",
    "\n",
    "$$ Ax = b $$\n",
    "\n",
    "$$ \\begin{bmatrix}1 & 1 & 1 \\\\ 3 & 8 & 1 \\\\ 5 & -4 & 3\\end{bmatrix}\\begin{bmatrix} x \\\\y \\\\ z\\end{bmatrix}= \\begin{bmatrix}3 \\\\ 12 \\\\ 4 \\end{bmatrix} $$\n",
    "\n",
    "Let us find:\n",
    "\n",
    "$$ x = A^{-1}b $$"
   ]
  },
  {
   "cell_type": "code",
   "execution_count": 23,
   "metadata": {
    "collapsed": false
   },
   "outputs": [],
   "source": [
    "A1 = np.matrix([[1,1,1],\n",
    "                [3,8,1],\n",
    "                [5,-4,3]])\n",
    "\n",
    "b1 = np.matrix([[3],\n",
    "                [12],\n",
    "                [4]])"
   ]
  },
  {
   "cell_type": "code",
   "execution_count": 24,
   "metadata": {
    "collapsed": false
   },
   "outputs": [
    {
     "data": {
      "text/plain": [
       "matrix([[ 1,  1,  1],\n",
       "        [ 3,  8,  1],\n",
       "        [ 5, -4,  3]])"
      ]
     },
     "execution_count": 24,
     "metadata": {},
     "output_type": "execute_result"
    }
   ],
   "source": [
    "A1"
   ]
  },
  {
   "cell_type": "code",
   "execution_count": 25,
   "metadata": {
    "collapsed": false
   },
   "outputs": [
    {
     "data": {
      "text/plain": [
       "matrix([[ 3],\n",
       "        [12],\n",
       "        [ 4]])"
      ]
     },
     "execution_count": 25,
     "metadata": {},
     "output_type": "execute_result"
    }
   ],
   "source": [
    "b1"
   ]
  },
  {
   "cell_type": "code",
   "execution_count": 26,
   "metadata": {
    "collapsed": true
   },
   "outputs": [],
   "source": [
    "A1inv = np.linalg.inv(A1)"
   ]
  },
  {
   "cell_type": "code",
   "execution_count": 27,
   "metadata": {
    "collapsed": false
   },
   "outputs": [
    {
     "data": {
      "text/plain": [
       "matrix([[-1.        ,  0.25      ,  0.25      ],\n",
       "        [ 0.14285714,  0.07142857, -0.07142857],\n",
       "        [ 1.85714286, -0.32142857, -0.17857143]])"
      ]
     },
     "execution_count": 27,
     "metadata": {},
     "output_type": "execute_result"
    }
   ],
   "source": [
    "A1inv"
   ]
  },
  {
   "cell_type": "code",
   "execution_count": 28,
   "metadata": {
    "collapsed": false
   },
   "outputs": [
    {
     "data": {
      "text/plain": [
       "matrix([[ 1.],\n",
       "        [ 1.],\n",
       "        [ 1.]])"
      ]
     },
     "execution_count": 28,
     "metadata": {},
     "output_type": "execute_result"
    }
   ],
   "source": [
    "A1inv*b1"
   ]
  },
  {
   "cell_type": "markdown",
   "metadata": {},
   "source": [
    "## Exercises on Matrices\n",
    "\n",
    "$$ U =  \\begin{bmatrix}3 & 1 & 1 \\\\ 3 & 8 & 1 \\\\ 5 & -4 & 3\\end{bmatrix}$$\n",
    "\n",
    "$$ V =  \\begin{bmatrix}2 & -3 & -4 \\\\ 3 & 5 & -6 \\\\ -1 & -3 & 2\\end{bmatrix}$$\n",
    "\n",
    "$$ W =  \\begin{bmatrix}2 & 3 \\\\ -1 & 2 \\\\ -3 & 1\\end{bmatrix}$$\n",
    "\n",
    "$$ T =  \\begin{bmatrix}2 & 3 \\\\ 4 & 6 \\end{bmatrix}$$\n",
    "\n",
    "$$ S =  \\begin{bmatrix}3 & 1 & 2 \\\\ 1 & 4 & 5 \\\\ 2 & 5 & 6 \\end{bmatrix}$$\n",
    "\n",
    "$$ Z =  \\begin{bmatrix}1 & - 1 & 0\\end{bmatrix}$$\n",
    "\n",
    "Write the matrices as np.matrix?"
   ]
  },
  {
   "cell_type": "code",
   "execution_count": 29,
   "metadata": {
    "collapsed": false
   },
   "outputs": [],
   "source": [
    "S = np.matrix([[3, 1, 2],\n",
    "              [1 , 4, 5],\n",
    "              [2 , 5 , 6]])"
   ]
  },
  {
   "cell_type": "code",
   "execution_count": 30,
   "metadata": {
    "collapsed": false
   },
   "outputs": [
    {
     "data": {
      "text/plain": [
       "matrix([[14, 17, 23],\n",
       "        [17, 42, 52],\n",
       "        [23, 52, 65]])"
      ]
     },
     "execution_count": 30,
     "metadata": {},
     "output_type": "execute_result"
    }
   ],
   "source": [
    "S * S.T"
   ]
  },
  {
   "cell_type": "code",
   "execution_count": 31,
   "metadata": {
    "collapsed": false
   },
   "outputs": [
    {
     "data": {
      "text/plain": [
       "matrix([[14, 17, 23],\n",
       "        [17, 42, 52],\n",
       "        [23, 52, 65]])"
      ]
     },
     "execution_count": 31,
     "metadata": {},
     "output_type": "execute_result"
    }
   ],
   "source": [
    "S.T * S"
   ]
  },
  {
   "cell_type": "code",
   "execution_count": null,
   "metadata": {
    "collapsed": true
   },
   "outputs": [],
   "source": []
  },
  {
   "cell_type": "code",
   "execution_count": null,
   "metadata": {
    "collapsed": false
   },
   "outputs": [],
   "source": []
  },
  {
   "cell_type": "markdown",
   "metadata": {},
   "source": [
    "### 1. Matrix Addition\n",
    "\n",
    "$$ \\begin{bmatrix}a & b\\\\ c & d\\end{bmatrix}  + \\begin{bmatrix}e & f\\\\ g & h\\end{bmatrix}   = \\begin{bmatrix}a + e & b + f \\\\ c + g & d + h\\end{bmatrix} $$\n",
    "\n",
    "\n",
    "\n",
    "What is $ U + V$?"
   ]
  },
  {
   "cell_type": "code",
   "execution_count": null,
   "metadata": {
    "collapsed": false
   },
   "outputs": [],
   "source": []
  },
  {
   "cell_type": "markdown",
   "metadata": {},
   "source": [
    "What is $ V + U $?"
   ]
  },
  {
   "cell_type": "code",
   "execution_count": null,
   "metadata": {
    "collapsed": false
   },
   "outputs": [],
   "source": []
  },
  {
   "cell_type": "markdown",
   "metadata": {},
   "source": [
    "What is $ W + U$?"
   ]
  },
  {
   "cell_type": "code",
   "execution_count": null,
   "metadata": {
    "collapsed": false
   },
   "outputs": [],
   "source": []
  },
  {
   "cell_type": "markdown",
   "metadata": {},
   "source": [
    "### 2. Scalar Multiplication \n",
    "\n",
    "$$ \\beta * \\begin{bmatrix}a & b\\\\ c & d\\end{bmatrix}  = \\begin{bmatrix}\\beta a & \\beta b\\\\ \\beta c & \\beta d \\end{bmatrix} $$\n",
    "\n",
    "\n",
    "\n",
    "What is $ 3 * U$ ?"
   ]
  },
  {
   "cell_type": "code",
   "execution_count": null,
   "metadata": {
    "collapsed": false
   },
   "outputs": [],
   "source": []
  },
  {
   "cell_type": "markdown",
   "metadata": {},
   "source": [
    "What is $2.5 * W$?"
   ]
  },
  {
   "cell_type": "code",
   "execution_count": null,
   "metadata": {
    "collapsed": false
   },
   "outputs": [],
   "source": []
  },
  {
   "cell_type": "markdown",
   "metadata": {},
   "source": [
    "### 3. Matrix Multiplication\n",
    "\n",
    "$$ A_{m \\times n} * B_{n \\times p} = C_{m \\times p} $$\n",
    "\n",
    "Example 1\n",
    "\n",
    "$$ A_{2 \\times 2} * B_{2 \\times 2} = C_{2 \\times 2} $$\n",
    "\n",
    "$$ \\begin{bmatrix}a & b\\\\ c & d\\end{bmatrix} \\begin{bmatrix}e & f\\\\ g & h\\end{bmatrix}   = \\begin{bmatrix}ae + bg & af + bh\\\\ ce + dg & cf + dh\\end{bmatrix} $$\n",
    "\n",
    "Example 2\n",
    "\n",
    "\n",
    "$$ A_{3 \\times 3} * B_{3 \\times 1} = C_{3 \\times 1} $$\n",
    "\n",
    "\n",
    "$$ \\begin{bmatrix}a & b & c \\\\ d & e & f \\\\ g & e & f\\end{bmatrix} \\begin{bmatrix}x \\\\ y \\\\ z \\end{bmatrix}   = \\begin{bmatrix}ax + by+ cz \\\\ dx + ey + fz \\\\ gx + ey + fz \\end{bmatrix} $$\n",
    "\n",
    "\n",
    "What is $ U * V$?"
   ]
  },
  {
   "cell_type": "code",
   "execution_count": null,
   "metadata": {
    "collapsed": false
   },
   "outputs": [],
   "source": []
  },
  {
   "cell_type": "markdown",
   "metadata": {},
   "source": [
    "What is $V * U$?"
   ]
  },
  {
   "cell_type": "code",
   "execution_count": null,
   "metadata": {
    "collapsed": false
   },
   "outputs": [],
   "source": []
  },
  {
   "cell_type": "markdown",
   "metadata": {},
   "source": [
    "What is $ U * W$?"
   ]
  },
  {
   "cell_type": "code",
   "execution_count": null,
   "metadata": {
    "collapsed": false
   },
   "outputs": [],
   "source": []
  },
  {
   "cell_type": "markdown",
   "metadata": {},
   "source": [
    "What is $ W * U$? Why does this not work?"
   ]
  },
  {
   "cell_type": "code",
   "execution_count": null,
   "metadata": {
    "collapsed": false
   },
   "outputs": [],
   "source": []
  },
  {
   "cell_type": "markdown",
   "metadata": {},
   "source": [
    "What is $ Z * U$?"
   ]
  },
  {
   "cell_type": "code",
   "execution_count": null,
   "metadata": {
    "collapsed": false
   },
   "outputs": [],
   "source": []
  },
  {
   "cell_type": "markdown",
   "metadata": {},
   "source": [
    "### 4. Matrix Inverse\n",
    "\n",
    "What is inverse of $U$ i.e. $U^{-1}$?"
   ]
  },
  {
   "cell_type": "code",
   "execution_count": null,
   "metadata": {
    "collapsed": false
   },
   "outputs": [],
   "source": []
  },
  {
   "cell_type": "markdown",
   "metadata": {},
   "source": [
    "What is inverse of $T$ i.e. $T^{-1}$? Why does this not work?"
   ]
  },
  {
   "cell_type": "code",
   "execution_count": null,
   "metadata": {
    "collapsed": false
   },
   "outputs": [],
   "source": []
  },
  {
   "cell_type": "markdown",
   "metadata": {},
   "source": [
    "What is inverse of $W$ i.e. $W^{-1}$? Why does this not work?"
   ]
  },
  {
   "cell_type": "code",
   "execution_count": null,
   "metadata": {
    "collapsed": false
   },
   "outputs": [],
   "source": []
  },
  {
   "cell_type": "markdown",
   "metadata": {},
   "source": [
    "### 4. Matrix Transpose\n",
    "\n",
    "$$ {\\begin{bmatrix}a & b\\end{bmatrix}}^{T} = {\\begin{bmatrix}a \\\\b\\end{bmatrix}} $$\n",
    "\n",
    "$$ {\\begin{bmatrix}a & b\\\\ c & d\\end{bmatrix}}^{T} = \\begin{bmatrix}a&c\\\\b&d\\end{bmatrix} $$\n",
    "\n",
    "$$ {\\begin{bmatrix}a&b\\\\c&d\\\\e&f\\end{bmatrix}}^{T} =  \\begin{bmatrix}a&c&e\\\\b&d&f\\end{bmatrix} $$\n",
    "\n",
    "What is transpose of $U$ i.e. $U^{T}$?"
   ]
  },
  {
   "cell_type": "code",
   "execution_count": null,
   "metadata": {
    "collapsed": false
   },
   "outputs": [],
   "source": []
  },
  {
   "cell_type": "markdown",
   "metadata": {},
   "source": [
    "Test whether $ {(UV)}^{T} = V^{T} U^{T}$ "
   ]
  },
  {
   "cell_type": "code",
   "execution_count": null,
   "metadata": {
    "collapsed": false
   },
   "outputs": [],
   "source": []
  },
  {
   "cell_type": "markdown",
   "metadata": {},
   "source": [
    "What is transpose of $Z$ i.e. $Z^{T}$?"
   ]
  },
  {
   "cell_type": "code",
   "execution_count": null,
   "metadata": {
    "collapsed": false
   },
   "outputs": [],
   "source": []
  },
  {
   "cell_type": "markdown",
   "metadata": {},
   "source": [
    "### 5. Matrix Determinant\n",
    "\n",
    "$$ \\begin{Vmatrix} a & b \\\\ c & d \\end{Vmatrix} = ad-bc $$\n",
    "\n",
    "\n",
    "$$ \\begin{Vmatrix}a&b&c\\\\d&e&f\\\\g&h&i\\end{Vmatrix}  = a{\\begin{Vmatrix}e&f\\\\h&i\\end{Vmatrix}}-b{\\begin{Vmatrix}d&f\\\\g&i\\end{Vmatrix}}+c{\\begin{Vmatrix}d&e\\\\g&h\\end{Vmatrix}}\\\\ $$\n",
    "\n"
   ]
  },
  {
   "cell_type": "markdown",
   "metadata": {},
   "source": [
    "What is the $||U||$?"
   ]
  },
  {
   "cell_type": "code",
   "execution_count": null,
   "metadata": {
    "collapsed": false
   },
   "outputs": [],
   "source": []
  },
  {
   "cell_type": "markdown",
   "metadata": {},
   "source": [
    "What is $||W||$?"
   ]
  },
  {
   "cell_type": "code",
   "execution_count": null,
   "metadata": {
    "collapsed": true
   },
   "outputs": [],
   "source": []
  },
  {
   "cell_type": "code",
   "execution_count": 32,
   "metadata": {
    "collapsed": false
   },
   "outputs": [],
   "source": [
    "W = np.matrix([[1, 2, 4],\n",
    "               [2, 5, 3],\n",
    "               [5, 3, 8]])"
   ]
  },
  {
   "cell_type": "code",
   "execution_count": null,
   "metadata": {
    "collapsed": false
   },
   "outputs": [],
   "source": []
  },
  {
   "cell_type": "markdown",
   "metadata": {
    "collapsed": true
   },
   "source": [
    "What is $||S||$?"
   ]
  },
  {
   "cell_type": "markdown",
   "metadata": {
    "collapsed": false
   },
   "source": [
    "### 6. Matrix Symmetry\n",
    "\n",
    "$$A^T = A$$"
   ]
  },
  {
   "cell_type": "markdown",
   "metadata": {},
   "source": [
    "Test whether $V$ is symmetric?"
   ]
  },
  {
   "cell_type": "code",
   "execution_count": null,
   "metadata": {
    "collapsed": true
   },
   "outputs": [],
   "source": []
  },
  {
   "cell_type": "markdown",
   "metadata": {},
   "source": [
    "Test whether $S$ is symmetric?"
   ]
  },
  {
   "cell_type": "code",
   "execution_count": null,
   "metadata": {
    "collapsed": true
   },
   "outputs": [],
   "source": [
    "\n"
   ]
  },
  {
   "cell_type": "markdown",
   "metadata": {},
   "source": [
    "### 7. Solve for Ax = b\n",
    "\n",
    "Solve for $x$ in $ Ux = Z^{T} $?"
   ]
  },
  {
   "cell_type": "code",
   "execution_count": null,
   "metadata": {
    "collapsed": false
   },
   "outputs": [],
   "source": []
  },
  {
   "cell_type": "markdown",
   "metadata": {},
   "source": [
    "Solve for $x$ in $ Vx = Z^{T} $? Is this solution correct?"
   ]
  },
  {
   "cell_type": "code",
   "execution_count": null,
   "metadata": {
    "collapsed": false
   },
   "outputs": [],
   "source": []
  },
  {
   "cell_type": "code",
   "execution_count": null,
   "metadata": {
    "collapsed": true
   },
   "outputs": [],
   "source": []
  }
 ],
 "metadata": {
  "kernelspec": {
   "display_name": "Python 3",
   "language": "python",
   "name": "python3"
  },
  "language_info": {
   "codemirror_mode": {
    "name": "ipython",
    "version": 3
   },
   "file_extension": ".py",
   "mimetype": "text/x-python",
   "name": "python",
   "nbconvert_exporter": "python",
   "pygments_lexer": "ipython3",
   "version": "3.5.2"
  }
 },
 "nbformat": 4,
 "nbformat_minor": 0
}
